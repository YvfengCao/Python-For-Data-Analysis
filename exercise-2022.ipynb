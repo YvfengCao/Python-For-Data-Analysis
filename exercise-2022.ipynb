{
 "cells": [
  {
   "cell_type": "code",
   "execution_count": 1,
   "id": "1fc5ece7",
   "metadata": {},
   "outputs": [
    {
     "name": "stdout",
     "output_type": "stream",
     "text": [
      "About\n",
      "About\n"
     ]
    }
   ],
   "source": [
    "a = 'about'\n",
    "print(a.title())\n",
    "print(a.capitalize())"
   ]
  },
  {
   "cell_type": "code",
   "execution_count": 2,
   "id": "cb07113a",
   "metadata": {},
   "outputs": [
    {
     "name": "stdout",
     "output_type": "stream",
     "text": [
      "About\n",
      "About\n"
     ]
    }
   ],
   "source": [
    "a = 'aBoUT'\n",
    "print(a.title())\n",
    "print(a.capitalize())"
   ]
  },
  {
   "cell_type": "code",
   "execution_count": 3,
   "id": "d6643e46",
   "metadata": {},
   "outputs": [
    {
     "name": "stdout",
     "output_type": "stream",
     "text": [
      "About You\n",
      "About you\n"
     ]
    }
   ],
   "source": [
    "a = 'aBout you'\n",
    "print(a.title())\n",
    "print(a.capitalize())"
   ]
  },
  {
   "cell_type": "code",
   "execution_count": 4,
   "id": "5f90c0ee",
   "metadata": {},
   "outputs": [
    {
     "name": "stdout",
     "output_type": "stream",
     "text": [
      " About You\n",
      " about you\n"
     ]
    }
   ],
   "source": [
    "a = ' aBout you'\n",
    "print(a.title())\n",
    "print(a.capitalize())"
   ]
  },
  {
   "cell_type": "code",
   "execution_count": 5,
   "id": "7aaf1c86",
   "metadata": {},
   "outputs": [
    {
     "name": "stdout",
     "output_type": "stream",
     "text": [
      "Help on method_descriptor:\n",
      "\n",
      "title(self, /)\n",
      "    Return a version of the string where each word is titlecased.\n",
      "    \n",
      "    More specifically, words start with uppercased characters and all remaining\n",
      "    cased characters have lower case.\n",
      "\n"
     ]
    }
   ],
   "source": [
    "help(str.title) # help(a.title)也可以，其中a是str对象"
   ]
  },
  {
   "cell_type": "code",
   "execution_count": 6,
   "id": "7becc9ce",
   "metadata": {},
   "outputs": [
    {
     "name": "stdout",
     "output_type": "stream",
     "text": [
      "Help on method_descriptor:\n",
      "\n",
      "capitalize(self, /)\n",
      "    Return a capitalized version of the string.\n",
      "    \n",
      "    More specifically, make the first character have upper case and the rest lower\n",
      "    case.\n",
      "\n"
     ]
    }
   ],
   "source": [
    "help(str.capitalize) # help(a.capitalize)也可以，其中a是str对象"
   ]
  },
  {
   "cell_type": "code",
   "execution_count": 7,
   "id": "8b0476f2",
   "metadata": {},
   "outputs": [
    {
     "name": "stdout",
     "output_type": "stream",
     "text": [
      "[10, 20, 3]\n",
      "[10, 20, 3]\n",
      "[10, 20, 3]\n",
      "[10, 20, 30]\n"
     ]
    }
   ],
   "source": [
    "# 可变数据类型的赋值和修改\n",
    "a = [1, 2, 3]\n",
    "b = a # 此时a和b都指向内存中一个相同的列表\n",
    "a[0] = 10\n",
    "b[1] = 20\n",
    "a = b\n",
    "b = a \n",
    "a = b\n",
    "print(a)\n",
    "print(b)\n",
    "b = [10, 20, 3] # 此时b指向内存中一个新的列表[10, 20, 3]，和a指向的不一样了\n",
    "b[2] = 30\n",
    "print(a)\n",
    "print(b)"
   ]
  },
  {
   "cell_type": "code",
   "execution_count": 8,
   "id": "1b293245",
   "metadata": {},
   "outputs": [
    {
     "name": "stdout",
     "output_type": "stream",
     "text": [
      "1\n",
      "1\n",
      "2\n",
      "3\n",
      "5\n",
      "8\n",
      "13\n",
      "21\n",
      "34\n",
      "55\n",
      "89\n",
      "144\n",
      "233\n",
      "377\n",
      "610\n",
      "987\n",
      "1597\n",
      "2584\n",
      "4181\n",
      "6765\n"
     ]
    }
   ],
   "source": [
    "# 输出斐波那契数列前n项，前两项为1，1\n",
    "n = 20\n",
    "a = 1\n",
    "b = 1\n",
    "print(a)\n",
    "print(b)\n",
    "i = 2\n",
    "while i < n:\n",
    "    b = a + b\n",
    "    a = b - a\n",
    "    print(b)\n",
    "    i += 1"
   ]
  },
  {
   "cell_type": "code",
   "execution_count": 9,
   "id": "086085f7",
   "metadata": {},
   "outputs": [
    {
     "name": "stdout",
     "output_type": "stream",
     "text": [
      "2\n",
      "3\n",
      "5\n",
      "7\n",
      "11\n",
      "13\n",
      "17\n",
      "19\n",
      "23\n",
      "29\n",
      "31\n",
      "37\n",
      "41\n",
      "43\n",
      "47\n",
      "53\n",
      "59\n",
      "61\n",
      "67\n",
      "71\n",
      "73\n",
      "79\n",
      "83\n",
      "89\n",
      "97\n"
     ]
    }
   ],
   "source": [
    "# 输出1, 2,..., 100里的所有质数\n",
    "for i in range(2, 101):\n",
    "    flag = True\n",
    "    for j in range(2, i):\n",
    "        if i % j == 0:\n",
    "            flag = False\n",
    "            break\n",
    "    if flag:\n",
    "        print(i)"
   ]
  },
  {
   "cell_type": "code",
   "execution_count": 10,
   "id": "dea5f917",
   "metadata": {},
   "outputs": [
    {
     "name": "stdout",
     "output_type": "stream",
     "text": [
      "2\n",
      "3\n",
      "5\n",
      "7\n",
      "11\n",
      "13\n",
      "17\n",
      "19\n",
      "23\n",
      "29\n",
      "31\n",
      "37\n",
      "41\n",
      "43\n",
      "47\n",
      "53\n",
      "59\n",
      "61\n",
      "67\n",
      "71\n",
      "73\n",
      "79\n",
      "83\n",
      "89\n",
      "97\n"
     ]
    }
   ],
   "source": [
    "# 输出1, 2,..., 100里的所有质数\n",
    "# for-else的版本\n",
    "for i in range(2, 101):\n",
    "    for j in range(2, i):\n",
    "        if i % j == 0:\n",
    "            break\n",
    "    else:\n",
    "        print(i)"
   ]
  },
  {
   "cell_type": "code",
   "execution_count": 11,
   "id": "5ddf2a75",
   "metadata": {},
   "outputs": [
    {
     "name": "stdout",
     "output_type": "stream",
     "text": [
      "[1, 1, 2, 3, 5, 8, 13, 21, 34, 55, 89, 144, 233, 377, 610, 987, 1597, 2584, 4181, 6765]\n"
     ]
    }
   ],
   "source": [
    "# 用while循环来求出斐波那契数列前20项（前三项为1，1，2）\n",
    "# 要求将这20项保存在一个列表里，并打印出列表\n",
    "n = 20\n",
    "arr = [1, 1]\n",
    "i = 2\n",
    "while i < n:\n",
    "    arr.append(arr[-2] + arr[-1])\n",
    "    i += 1\n",
    "print(arr)"
   ]
  },
  {
   "cell_type": "code",
   "execution_count": 12,
   "id": "2a2ecd8c",
   "metadata": {},
   "outputs": [
    {
     "name": "stdout",
     "output_type": "stream",
     "text": [
      "[6765, 4181, 2584, 1597, 987, 610, 377, 233, 144, 89, 55, 34, 21, 13, 8, 5, 3, 2, 1, 1]\n"
     ]
    }
   ],
   "source": [
    "# 对这个列表降序排列，并打印出来\n",
    "arr.sort(reverse=True)\n",
    "print(arr)"
   ]
  },
  {
   "cell_type": "code",
   "execution_count": 13,
   "id": "24663a36",
   "metadata": {},
   "outputs": [
    {
     "name": "stdout",
     "output_type": "stream",
     "text": [
      "(6765, 4181, 2584, 1597, 987, 610, 377, 233, 144, 89, 55, 34, 21, 13, 8, 5, 3, 2, 1, 1)\n"
     ]
    }
   ],
   "source": [
    "# 将降序排列后的列表转换为一个元组，并打印出来\n",
    "tup = tuple(arr)\n",
    "print(tup)"
   ]
  },
  {
   "cell_type": "code",
   "execution_count": 14,
   "id": "ab878ad0",
   "metadata": {},
   "outputs": [
    {
     "name": "stdout",
     "output_type": "stream",
     "text": [
      "(1, 1, 2, 3, 5, 8, 13, 21, 34, 55, 89, 144, 233, 377, 610, 987, 1597, 2584, 4181, 6765)\n"
     ]
    }
   ],
   "source": [
    "# 将元组升序排列后保存到一个新的元组中，并打印出来\n",
    "tup_ascending = tuple(sorted(tup))\n",
    "print(tup_ascending)"
   ]
  },
  {
   "cell_type": "code",
   "execution_count": 15,
   "id": "171d6424",
   "metadata": {},
   "outputs": [
    {
     "name": "stdout",
     "output_type": "stream",
     "text": [
      "Help on method_descriptor:\n",
      "\n",
      "find(...)\n",
      "    S.find(sub[, start[, end]]) -> int\n",
      "    \n",
      "    Return the lowest index in S where substring sub is found,\n",
      "    such that sub is contained within S[start:end].  Optional\n",
      "    arguments start and end are interpreted as in slice notation.\n",
      "    \n",
      "    Return -1 on failure.\n",
      "\n"
     ]
    }
   ],
   "source": [
    "help(str.find)"
   ]
  },
  {
   "cell_type": "code",
   "execution_count": 16,
   "id": "b6a0d226",
   "metadata": {},
   "outputs": [
    {
     "name": "stdout",
     "output_type": "stream",
     "text": [
      "Help on method_descriptor:\n",
      "\n",
      "rfind(...)\n",
      "    S.rfind(sub[, start[, end]]) -> int\n",
      "    \n",
      "    Return the highest index in S where substring sub is found,\n",
      "    such that sub is contained within S[start:end].  Optional\n",
      "    arguments start and end are interpreted as in slice notation.\n",
      "    \n",
      "    Return -1 on failure.\n",
      "\n"
     ]
    }
   ],
   "source": [
    "help(str.rfind)"
   ]
  },
  {
   "cell_type": "code",
   "execution_count": 17,
   "id": "ec458f8e",
   "metadata": {},
   "outputs": [
    {
     "name": "stdout",
     "output_type": "stream",
     "text": [
      "1\n",
      "6\n"
     ]
    }
   ],
   "source": [
    "# 找出一个find和rfind()结果不同的例子，并解释为什么结果不同\n",
    "s = 'Welcome'\n",
    "print(s.find('e')) # 左边第一个e，索引为1，注意索引从0开始\n",
    "print(s.rfind('e')) # 右边第一个e，索引为6"
   ]
  },
  {
   "cell_type": "code",
   "execution_count": 18,
   "id": "c816d1a8",
   "metadata": {},
   "outputs": [
    {
     "name": "stdout",
     "output_type": "stream",
     "text": [
      "Help on built-in function maketrans:\n",
      "\n",
      "maketrans(...)\n",
      "    Return a translation table usable for str.translate().\n",
      "    \n",
      "    If there is only one argument, it must be a dictionary mapping Unicode\n",
      "    ordinals (integers) or characters to Unicode ordinals, strings or None.\n",
      "    Character keys will be then converted to ordinals.\n",
      "    If there are two arguments, they must be strings of equal length, and\n",
      "    in the resulting dictionary, each character in x will be mapped to the\n",
      "    character at the same position in y. If there is a third argument, it\n",
      "    must be a string, whose characters will be mapped to None in the result.\n",
      "\n"
     ]
    }
   ],
   "source": [
    "help(str.maketrans)"
   ]
  },
  {
   "cell_type": "code",
   "execution_count": 19,
   "id": "8b301f1b",
   "metadata": {},
   "outputs": [
    {
     "name": "stdout",
     "output_type": "stream",
     "text": [
      "Help on method_descriptor:\n",
      "\n",
      "translate(self, table, /)\n",
      "    Replace each character in the string using the given translation table.\n",
      "    \n",
      "      table\n",
      "        Translation table, which must be a mapping of Unicode ordinals to\n",
      "        Unicode ordinals, strings, or None.\n",
      "    \n",
      "    The table must implement lookup/indexing via __getitem__, for instance a\n",
      "    dictionary or list.  If this operation raises LookupError, the character is\n",
      "    left untouched.  Characters mapped to None are deleted.\n",
      "\n"
     ]
    }
   ],
   "source": [
    "help(str.translate)"
   ]
  },
  {
   "cell_type": "code",
   "execution_count": 20,
   "id": "e5ea4647",
   "metadata": {},
   "outputs": [
    {
     "data": {
      "text/plain": [
       "'Haccd Wdrc!'"
      ]
     },
     "execution_count": 20,
     "metadata": {},
     "output_type": "execute_result"
    }
   ],
   "source": [
    "s = 'Hello World!'\n",
    "table = str.maketrans('eol','adc', 'd')\n",
    "s.translate(table)"
   ]
  },
  {
   "cell_type": "code",
   "execution_count": 21,
   "id": "14f415cd",
   "metadata": {},
   "outputs": [
    {
     "name": "stdout",
     "output_type": "stream",
     "text": [
      "{'张三': 80, '李四': 95, '王五': 59, '赵六': 60, '李雷': 77, '韩梅梅': 93}\n"
     ]
    }
   ],
   "source": [
    "# 新建字典\n",
    "math_score = {'张三': 80, '李四': 95, '王五':59, '赵六': 60, '李雷': 77, '韩梅梅': 93}\n",
    "print(math_score)"
   ]
  },
  {
   "cell_type": "code",
   "execution_count": 22,
   "id": "e97d38a9",
   "metadata": {},
   "outputs": [
    {
     "name": "stdout",
     "output_type": "stream",
     "text": [
      "80\n",
      "80\n"
     ]
    }
   ],
   "source": [
    "# 查询\n",
    "print(math_score['张三']) # 方法一\n",
    "print(math_score.get('张三', 0)) # 方法二，有张三则返回其成绩，无张三则返回0，这种方式能避免报错"
   ]
  },
  {
   "cell_type": "code",
   "execution_count": 23,
   "id": "9f56c283",
   "metadata": {},
   "outputs": [
    {
     "name": "stdout",
     "output_type": "stream",
     "text": [
      "{'张三': 80, '李四': 95, '王五': 59, '赵六': 60, '李雷': 77, '韩梅梅': 93, '小明': 100}\n"
     ]
    }
   ],
   "source": [
    "# 添加\n",
    "math_score['小明'] = 100\n",
    "print(math_score)"
   ]
  },
  {
   "cell_type": "code",
   "execution_count": 24,
   "id": "ceed4c03",
   "metadata": {},
   "outputs": [
    {
     "name": "stdout",
     "output_type": "stream",
     "text": [
      "{'张三': 80, '李四': 94, '王五': 59, '赵六': 60, '李雷': 77, '韩梅梅': 93, '小明': 100}\n"
     ]
    }
   ],
   "source": [
    "# 更新活着说修改\n",
    "math_score['李四'] = 94\n",
    "print(math_score)"
   ]
  },
  {
   "cell_type": "code",
   "execution_count": 25,
   "id": "4d2d0e6b",
   "metadata": {},
   "outputs": [
    {
     "name": "stdout",
     "output_type": "stream",
     "text": [
      "{'张三': 80, '李四': 94, '王五': 59, '赵六': 60, '李雷': 77, '小明': 100}\n"
     ]
    }
   ],
   "source": [
    "# 删除\n",
    "del math_score['韩梅梅']\n",
    "print(math_score)"
   ]
  },
  {
   "cell_type": "code",
   "execution_count": 26,
   "id": "49ec59ce",
   "metadata": {},
   "outputs": [],
   "source": [
    "def cal_pass_rate(math_score):\n",
    "    num_pass = 0\n",
    "    for name, score in math_score.items():\n",
    "        if score >= 60:\n",
    "            num_pass += 1\n",
    "    return num_pass / len(math_score)"
   ]
  },
  {
   "cell_type": "code",
   "execution_count": 27,
   "id": "8dcbd878",
   "metadata": {},
   "outputs": [
    {
     "name": "stdout",
     "output_type": "stream",
     "text": [
      "0.8333333333333334\n"
     ]
    }
   ],
   "source": [
    "print(cal_pass_rate(math_score))"
   ]
  },
  {
   "cell_type": "code",
   "execution_count": 28,
   "id": "e0f9d4ae",
   "metadata": {},
   "outputs": [],
   "source": [
    "c_students = {'张三', '李四', '王五', '赵六'}\n",
    "cpp_students = {'李雷', '王五', '杨过', '赵六'}"
   ]
  },
  {
   "cell_type": "code",
   "execution_count": 29,
   "id": "fb22dff4",
   "metadata": {},
   "outputs": [
    {
     "data": {
      "text/plain": [
       "{'张三', '李四', '李雷', '杨过', '王五', '赵六'}"
      ]
     },
     "execution_count": 29,
     "metadata": {},
     "output_type": "execute_result"
    }
   ],
   "source": [
    "# 两门课选过其中一门的学生\n",
    "c_students | cpp_students"
   ]
  },
  {
   "cell_type": "code",
   "execution_count": 30,
   "id": "223c6051",
   "metadata": {},
   "outputs": [
    {
     "data": {
      "text/plain": [
       "{'王五', '赵六'}"
      ]
     },
     "execution_count": 30,
     "metadata": {},
     "output_type": "execute_result"
    }
   ],
   "source": [
    "# 两门课都选过的学生\n",
    "c_students & cpp_students"
   ]
  },
  {
   "cell_type": "code",
   "execution_count": 31,
   "id": "06632bbb",
   "metadata": {},
   "outputs": [
    {
     "data": {
      "text/plain": [
       "{'张三', '李四', '李雷', '杨过'}"
      ]
     },
     "execution_count": 31,
     "metadata": {},
     "output_type": "execute_result"
    }
   ],
   "source": [
    "# 只学过C或者只学过C++的学生\n",
    "c_students ^ cpp_students"
   ]
  },
  {
   "cell_type": "code",
   "execution_count": 32,
   "id": "847e4f05",
   "metadata": {},
   "outputs": [],
   "source": [
    "def encypt(s, offset=3):\n",
    "    source = \"ABCDEFGHIJKLMNOPQRSTUVWXYZ\"\n",
    "    target = source[offset:] + source[:offset]\n",
    "    table = str.maketrans(source, target)\n",
    "    return s.translate(table)\n",
    "\n",
    "def decypt(s, offset=3):\n",
    "    source = \"ABCDEFGHIJKLMNOPQRSTUVWXYZ\"\n",
    "    target = source[offset:] + source[:offset]\n",
    "    table = str.maketrans(target, source)\n",
    "    return s.translate(table)"
   ]
  },
  {
   "cell_type": "code",
   "execution_count": 33,
   "id": "2dfa7852",
   "metadata": {},
   "outputs": [
    {
     "name": "stdout",
     "output_type": "stream",
     "text": [
      "LORYHSBWKRQ\n",
      "ILOVEPYTHON\n"
     ]
    }
   ],
   "source": [
    "plaintext = 'ILOVEPYTHON'\n",
    "ciphertext = encypt(plaintext)\n",
    "print(ciphertext)\n",
    "print(decypt(ciphertext))"
   ]
  },
  {
   "cell_type": "code",
   "execution_count": 34,
   "id": "8066001a",
   "metadata": {},
   "outputs": [
    {
     "name": "stdout",
     "output_type": "stream",
     "text": [
      "SVYFOZIDRYX\n",
      "ILOVEPYTHON\n"
     ]
    }
   ],
   "source": [
    "plaintext = 'ILOVEPYTHON'\n",
    "ciphertext = encypt(plaintext, 10)\n",
    "print(ciphertext)\n",
    "print(decypt(ciphertext, 10))"
   ]
  },
  {
   "cell_type": "code",
   "execution_count": 1,
   "id": "fca6e9aa",
   "metadata": {},
   "outputs": [],
   "source": [
    "class Date:\n",
    "    def __init__(self, year, mon, day):\n",
    "        self.year = year\n",
    "        self.mon = mon\n",
    "        self.day = day\n",
    "        \n",
    "    def __str__(self):\n",
    "        return '%d-%02d-%02d' % (self.year, self.mon, self.day)\n",
    "\n",
    "class People:\n",
    "    def __init__(self, name, gender, year, mon, day):\n",
    "        self.name = name\n",
    "        self.gender = gender\n",
    "        self.birthday = Date(year, mon, day)\n",
    "        \n",
    "    def print_info(self):\n",
    "        print('姓名: %s, 性别: %s, 生日: %s' % (self.name, self.gender, str(self.birthday)))\n",
    "        \n",
    "class Teacher(People):\n",
    "    def __init__(self, name, gender, year, mon, day, courses):\n",
    "        People.__init__(self, name, gender, year, mon, day)\n",
    "        self.courses = courses\n",
    "    \n",
    "    def teach(self, place):\n",
    "        print('%s正在%s教课' % (self.name, place))\n",
    "        \n",
    "class Student(People):\n",
    "    def __init__(self, name, gender, year, mon, day, scores):\n",
    "        People.__init__(self, name, gender, year, mon, day)\n",
    "        self.scores = scores\n",
    "    \n",
    "    def study(self, place):\n",
    "        print('%s正在%s学习' % (self.name, place))"
   ]
  },
  {
   "cell_type": "code",
   "execution_count": 4,
   "id": "e0ff5429",
   "metadata": {},
   "outputs": [
    {
     "name": "stdout",
     "output_type": "stream",
     "text": [
      "2002-06-01\n"
     ]
    }
   ],
   "source": [
    "date = Date(2002, 6, 1)\n",
    "print(str(date))"
   ]
  },
  {
   "cell_type": "code",
   "execution_count": 9,
   "id": "df6f6124",
   "metadata": {},
   "outputs": [
    {
     "name": "stdout",
     "output_type": "stream",
     "text": [
      "姓名: 王五, 性别: 男, 生日: 220-10-01\n"
     ]
    }
   ],
   "source": [
    "wangwu = People('王五', '男', 220, 10, 1)\n",
    "wangwu.print_info()"
   ]
  },
  {
   "cell_type": "code",
   "execution_count": 36,
   "id": "81069102",
   "metadata": {},
   "outputs": [
    {
     "name": "stdout",
     "output_type": "stream",
     "text": [
      "姓名: 张三, 性别: 男, 生日: 1990-10-01\n",
      "张三正在WLA-511教课\n"
     ]
    }
   ],
   "source": [
    "zhangsan = Teacher('张三', '男', 1990, 10, 1, {'Python与数据分析', '机器学习'})\n",
    "zhangsan.print_info()\n",
    "zhangsan.teach('WLA-511')"
   ]
  },
  {
   "cell_type": "code",
   "execution_count": 37,
   "id": "cbf54267",
   "metadata": {},
   "outputs": [
    {
     "name": "stdout",
     "output_type": "stream",
     "text": [
      "姓名: 李四, 性别: 女, 生日: 2003-02-11\n",
      "李四正在图书馆学习\n"
     ]
    }
   ],
   "source": [
    "lisi = Student('李四', '女', 2003, 2, 11, {'数学分析': 95, 'Python与数据分析': 100})\n",
    "lisi.print_info()\n",
    "lisi.study('图书馆')"
   ]
  },
  {
   "cell_type": "code",
   "execution_count": 38,
   "id": "d75f966a",
   "metadata": {},
   "outputs": [
    {
     "name": "stdout",
     "output_type": "stream",
     "text": [
      "{'机器学习', 'Python与数据分析'}\n",
      "{'机器学习', '深度学习', 'Python与数据分析'}\n"
     ]
    }
   ],
   "source": [
    "print(zhangsan.courses)\n",
    "zhangsan.courses.add('深度学习')\n",
    "print(zhangsan.courses)"
   ]
  },
  {
   "cell_type": "code",
   "execution_count": 39,
   "id": "2aa45b38",
   "metadata": {},
   "outputs": [
    {
     "name": "stdout",
     "output_type": "stream",
     "text": [
      "{'数学分析': 95, 'Python与数据分析': 100}\n",
      "{'数学分析': 95, 'Python与数据分析': 100, '离散数学': 99}\n"
     ]
    }
   ],
   "source": [
    "print(lisi.scores)\n",
    "lisi.scores['离散数学'] = 99\n",
    "print(lisi.scores)"
   ]
  },
  {
   "cell_type": "code",
   "execution_count": 16,
   "id": "0f38faef",
   "metadata": {},
   "outputs": [],
   "source": [
    "# swap定义在两个类外面，是因为其功能不限制在两个类内部使用，与两个类无关，\n",
    "# 这样在最外面定义能够让swap函数被更多类或函数调用，增加重用性，减少冗余\n",
    "def swap(a, b):\n",
    "    \"\"\"交换两个变量的值\"\"\"\n",
    "    return b, a\n",
    "\n",
    "\n",
    "class Skill(object):\n",
    "    \"\"\"能造成伤害的攻击或技能\"\"\"\n",
    "    def __init__(self, name, attack, hurt, user):\n",
    "        self.name = name # 技能名称\n",
    "        self.attack = attack # 造成的伤害\n",
    "        self.hurt = hurt # 对自身的伤害\n",
    "        self.user = user # 技能使用者\n",
    "        \n",
    "    def apply(self, down):\n",
    "        if not self.user.is_alive():\n",
    "            print('当前英雄 {} 已阵亡，无法发动 {}'.format(self.user.name, self.name))\n",
    "            return\n",
    "        if not down.is_alive():\n",
    "            print('{} 已阵亡，无法攻击'.format(down.name))\n",
    "            return\n",
    "        print('{} 向 {} 发动 {}, 造成伤害 {}'.format(self.user.name, down.name, self.name, self.attack))\n",
    "        down.update(0, 0, -self.attack)\n",
    "        self.user.update(0, 0, -self.hurt)\n",
    "\n",
    "        \n",
    "class Hero(object):\n",
    "    \"\"\"英雄\"\"\"\n",
    "    def __init__(self, name, money, attack, hp):\n",
    "        self.name = name\n",
    "        self.money = money\n",
    "        self.attack = attack\n",
    "        self.hp = hp\n",
    "        self.normal_attack = Skill('普通攻击', self.attack, 0, self) # 这里是组合了Skill类\n",
    "        \n",
    "    def show_info(self):\n",
    "        print('英雄名: {}, 金钱: {}, 攻击力: {}, 血量: {}'.format(\n",
    "            self.name, self.money, self.attack, self.hp))\n",
    "            \n",
    "    def is_alive(self):\n",
    "        return self.hp > 0\n",
    "        \n",
    "    def update(self, money, attack, hp):\n",
    "        if self.hp > 0 and self.hp + hp <= 0:\n",
    "            print('{}阵亡'.format(self.name))\n",
    "        self.money += money\n",
    "        self.attack += attack\n",
    "        self.hp += hp\n",
    "        self.money = max(0, self.money)\n",
    "        self.attack = max(0, self.attack)\n",
    "        self.hp = max(0, self.hp)\n",
    "\n",
    "        \n",
    "class Switch(Hero): # 继承Hero类\n",
    "    \"\"\"英雄Switch\"\"\"\n",
    "    # 当__init__中不需要比父类增加属性或方法时，会默认使用父类的__init__，不需要再写一遍__init__\n",
    "    def switch_attack_hp(self):\n",
    "        skill_name = '攻击hp交换技能'\n",
    "        if self.is_alive():\n",
    "            print('当前英雄 {} 已阵亡，无法发动 {}'.format(self.name, skill_name))\n",
    "            return\n",
    "        print('{} 发动 {}'.format(self.name, skill_name))\n",
    "        self.attack, self.hp = swap(self.attack, self.hp)\n",
    "        \n",
    "        \n",
    "class Destroy(Hero):\n",
    "    \"\"\"英雄Destroy\"\"\"\n",
    "    def __init__(self, name, money, attack, hp):\n",
    "        Hero.__init__(self, name, money, attack, hp)\n",
    "        self.hurt_both = Skill('两败俱伤', 750, 750, self)\n",
    "\n",
    "        \n",
    "def show_status(*heros):\n",
    "    \"\"\"展示多个英雄的当前状态\"\"\"\n",
    "    print('-' * 52)\n",
    "    for hero in heros:\n",
    "        hero.show_info()\n",
    "    print('-' * 52)"
   ]
  },
  {
   "cell_type": "code",
   "execution_count": 17,
   "id": "1062997b",
   "metadata": {},
   "outputs": [
    {
     "name": "stdout",
     "output_type": "stream",
     "text": [
      "----------------------------------------------------\n",
      "英雄名: 普通英雄, 金钱: 2000, 攻击力: 500, 血量: 700\n",
      "英雄名: 攻击hp交换师, 金钱: 2000, 攻击力: 1200, 血量: 800\n",
      "英雄名: 搏命人, 金钱: 2000, 攻击力: 1000, 血量: 900\n",
      "----------------------------------------------------\n",
      "普通英雄 向 攻击hp交换师 发动 普通攻击, 造成伤害 500\n",
      "----------------------------------------------------\n",
      "英雄名: 普通英雄, 金钱: 2000, 攻击力: 500, 血量: 700\n",
      "英雄名: 攻击hp交换师, 金钱: 2000, 攻击力: 1200, 血量: 300\n",
      "英雄名: 搏命人, 金钱: 2000, 攻击力: 1000, 血量: 900\n",
      "----------------------------------------------------\n",
      "当前英雄 攻击hp交换师 已阵亡，无法发动 攻击hp交换技能\n",
      "----------------------------------------------------\n",
      "英雄名: 普通英雄, 金钱: 2000, 攻击力: 500, 血量: 700\n",
      "英雄名: 攻击hp交换师, 金钱: 2000, 攻击力: 1200, 血量: 300\n",
      "英雄名: 搏命人, 金钱: 2000, 攻击力: 1000, 血量: 900\n",
      "----------------------------------------------------\n",
      "搏命人 向 普通英雄 发动 两败俱伤, 造成伤害 750\n",
      "普通英雄阵亡\n",
      "----------------------------------------------------\n",
      "英雄名: 普通英雄, 金钱: 2000, 攻击力: 500, 血量: 0\n",
      "英雄名: 攻击hp交换师, 金钱: 2000, 攻击力: 1200, 血量: 300\n",
      "英雄名: 搏命人, 金钱: 2000, 攻击力: 1000, 血量: 150\n",
      "----------------------------------------------------\n",
      "普通英雄 已阵亡，无法攻击\n",
      "----------------------------------------------------\n",
      "英雄名: 普通英雄, 金钱: 2000, 攻击力: 500, 血量: 0\n",
      "英雄名: 攻击hp交换师, 金钱: 2000, 攻击力: 1200, 血量: 300\n",
      "英雄名: 搏命人, 金钱: 2000, 攻击力: 1000, 血量: 150\n",
      "----------------------------------------------------\n",
      "搏命人 向 攻击hp交换师 发动 两败俱伤, 造成伤害 750\n",
      "攻击hp交换师阵亡\n",
      "搏命人阵亡\n",
      "----------------------------------------------------\n",
      "英雄名: 普通英雄, 金钱: 2000, 攻击力: 500, 血量: 0\n",
      "英雄名: 攻击hp交换师, 金钱: 2000, 攻击力: 1200, 血量: 0\n",
      "英雄名: 搏命人, 金钱: 2000, 攻击力: 1000, 血量: 0\n",
      "----------------------------------------------------\n",
      "当前英雄 搏命人 已阵亡，无法发动 两败俱伤\n",
      "----------------------------------------------------\n",
      "英雄名: 普通英雄, 金钱: 2000, 攻击力: 500, 血量: 0\n",
      "英雄名: 攻击hp交换师, 金钱: 2000, 攻击力: 1200, 血量: 0\n",
      "英雄名: 搏命人, 金钱: 2000, 攻击力: 1000, 血量: 0\n",
      "----------------------------------------------------\n"
     ]
    }
   ],
   "source": [
    "a = Hero('普通英雄', 2000, 500, 700)\n",
    "b = Switch('攻击hp交换师', 2000, 1200, 800)\n",
    "c = Destroy('搏命人', 2000, 1000, 900)\n",
    "show_status(a, b, c)\n",
    "a.normal_attack.apply(b)\n",
    "show_status(a, b, c)\n",
    "b.switch_attack_hp()\n",
    "show_status(a, b, c)\n",
    "c.hurt_both.apply(a)\n",
    "show_status(a, b, c)\n",
    "c.normal_attack.apply(a)\n",
    "show_status(a, b, c)\n",
    "c.hurt_both.apply(b)\n",
    "show_status(a, b, c)\n",
    "c.hurt_both.apply(b)\n",
    "show_status(a, b, c)"
   ]
  },
  {
   "cell_type": "code",
   "execution_count": 19,
   "id": "e83d74e6",
   "metadata": {},
   "outputs": [],
   "source": [
    "class Change(Hero):\n",
    "    \"\"\"英雄Change\"\"\"\n",
    "    def change_hp(self, another_hero):\n",
    "        skill_name = '血量交换技能'\n",
    "        if not self.is_alive():\n",
    "            print('当前英雄 {} 已阵亡，无法发动 {}'.format(self.name, skill_name))\n",
    "            return\n",
    "        if not another_hero.is_alive():\n",
    "            print('{} 已阵亡，无法发动 {}'.format(another_hero.name, skill_name))\n",
    "            return\n",
    "        print('{} 向 {} 发动 {}'.format(self.name, another_hero.name, skill_name))\n",
    "        self.hp, another_hero.hp = swap(self.hp, another_hero.hp)"
   ]
  },
  {
   "cell_type": "code",
   "execution_count": 20,
   "id": "09a3d8be",
   "metadata": {},
   "outputs": [
    {
     "name": "stdout",
     "output_type": "stream",
     "text": [
      "----------------------------------------------------\n",
      "英雄名: 普通英雄, 金钱: 2000, 攻击力: 500, 血量: 700\n",
      "英雄名: HP交换师, 金钱: 1500, 攻击力: 1000, 血量: 900\n",
      "----------------------------------------------------\n",
      "HP交换师 向 普通英雄 发动 血量交换技能\n",
      "----------------------------------------------------\n",
      "英雄名: 普通英雄, 金钱: 2000, 攻击力: 500, 血量: 900\n",
      "英雄名: HP交换师, 金钱: 1500, 攻击力: 1000, 血量: 700\n",
      "----------------------------------------------------\n"
     ]
    }
   ],
   "source": [
    "a = Hero('普通英雄', 2000, 500, 700)\n",
    "b = Change('HP交换师', 1500, 1000, 900)\n",
    "show_status(a, b)\n",
    "b.change_hp(a)\n",
    "show_status(a, b)"
   ]
  },
  {
   "cell_type": "code",
   "execution_count": 21,
   "id": "101b7565",
   "metadata": {},
   "outputs": [
    {
     "name": "stdout",
     "output_type": "stream",
     "text": [
      "----------------------------------------------------\n",
      "英雄名: 普通英雄, 金钱: 2000, 攻击力: 500, 血量: 800\n",
      "英雄名: HP交换师, 金钱: 1500, 攻击力: 1000, 血量: 0\n",
      "----------------------------------------------------\n",
      "当前英雄 HP交换师 已阵亡，无法发动 血量交换技能\n",
      "----------------------------------------------------\n",
      "英雄名: 普通英雄, 金钱: 2000, 攻击力: 500, 血量: 800\n",
      "英雄名: HP交换师, 金钱: 1500, 攻击力: 1000, 血量: 0\n",
      "----------------------------------------------------\n"
     ]
    }
   ],
   "source": [
    "a.hp = 800\n",
    "b.hp = 0\n",
    "show_status(a, b)\n",
    "b.change_hp(a)\n",
    "show_status(a, b)"
   ]
  },
  {
   "cell_type": "code",
   "execution_count": 22,
   "id": "e9fef77a",
   "metadata": {},
   "outputs": [
    {
     "name": "stdout",
     "output_type": "stream",
     "text": [
      "----------------------------------------------------\n",
      "英雄名: 普通英雄, 金钱: 2000, 攻击力: 500, 血量: 0\n",
      "英雄名: HP交换师, 金钱: 1500, 攻击力: 1000, 血量: 600\n",
      "----------------------------------------------------\n",
      "普通英雄 已阵亡，无法发动 血量交换技能\n",
      "----------------------------------------------------\n",
      "英雄名: 普通英雄, 金钱: 2000, 攻击力: 500, 血量: 0\n",
      "英雄名: HP交换师, 金钱: 1500, 攻击力: 1000, 血量: 600\n",
      "----------------------------------------------------\n"
     ]
    }
   ],
   "source": [
    "a.hp = 0\n",
    "b.hp = 600\n",
    "show_status(a, b)\n",
    "b.change_hp(a)\n",
    "show_status(a, b)"
   ]
  },
  {
   "cell_type": "code",
   "execution_count": 23,
   "id": "ea43aa17",
   "metadata": {},
   "outputs": [],
   "source": [
    "class Vector():\n",
    "    def __init__(self, a, b):\n",
    "        self.a = a\n",
    "        self.b = b\n",
    "    \n",
    "    def __str__(self):\n",
    "        return 'Vector(%d, %d)' % (self.a, self.b)\n",
    "    \n",
    "    __repr__ = __str__\n",
    "    \n",
    "    def __add__(self, other):\n",
    "        return Vector(self.a + other.a, self.b + other.b)\n",
    "        \n",
    "    def __sub__(self, other):\n",
    "        return Vector(self.a - other.a, self.b - other.b)\n",
    "    \n",
    "    def __mul__(self, other):\n",
    "        return self.a * other.a + self.b * other.b\n",
    "    \n",
    "    def __eq__(self, other):\n",
    "        return self.a == other.a and self.b == other.b"
   ]
  },
  {
   "cell_type": "code",
   "execution_count": 24,
   "id": "a686b76a",
   "metadata": {},
   "outputs": [
    {
     "name": "stdout",
     "output_type": "stream",
     "text": [
      "Vector(2, 3)\n"
     ]
    }
   ],
   "source": [
    "x1 = Vector(2, 3)\n",
    "print(str(x1))"
   ]
  },
  {
   "cell_type": "code",
   "execution_count": 25,
   "id": "0fcb19f6",
   "metadata": {},
   "outputs": [
    {
     "data": {
      "text/plain": [
       "Vector(2, 3)"
      ]
     },
     "execution_count": 25,
     "metadata": {},
     "output_type": "execute_result"
    }
   ],
   "source": [
    "x1 = Vector(2, 3)\n",
    "x1"
   ]
  },
  {
   "cell_type": "code",
   "execution_count": 26,
   "id": "df37d052",
   "metadata": {},
   "outputs": [
    {
     "name": "stdout",
     "output_type": "stream",
     "text": [
      "Vector(1, 8)\n"
     ]
    }
   ],
   "source": [
    "x1 = Vector(2, 3)\n",
    "x2 = Vector(-1, 5)\n",
    "x3 = x1 + x2\n",
    "print(x3)"
   ]
  },
  {
   "cell_type": "code",
   "execution_count": 27,
   "id": "0edd6d99",
   "metadata": {},
   "outputs": [
    {
     "name": "stdout",
     "output_type": "stream",
     "text": [
      "Vector(3, -2)\n"
     ]
    }
   ],
   "source": [
    "x1 = Vector(2, 3)\n",
    "x2 = Vector(-1, 5)\n",
    "x3 = x1 - x2\n",
    "print(x3)"
   ]
  },
  {
   "cell_type": "code",
   "execution_count": 28,
   "id": "ee2c2ab3",
   "metadata": {},
   "outputs": [
    {
     "name": "stdout",
     "output_type": "stream",
     "text": [
      "13\n"
     ]
    }
   ],
   "source": [
    "x1 = Vector(2, 3)\n",
    "x2 = Vector(-1, 5)\n",
    "x3 = x1 * x2\n",
    "print(x3)"
   ]
  },
  {
   "cell_type": "code",
   "execution_count": 29,
   "id": "55e230be",
   "metadata": {},
   "outputs": [
    {
     "name": "stdout",
     "output_type": "stream",
     "text": [
      "False\n",
      "True\n"
     ]
    }
   ],
   "source": [
    "x1 = Vector(2, 3)\n",
    "x2 = Vector(2, 2)\n",
    "print(x1 == x2)\n",
    "x3 = Vector(2, 3)\n",
    "print(x1 == x3)"
   ]
  },
  {
   "cell_type": "code",
   "execution_count": 53,
   "id": "cf9adc6a",
   "metadata": {},
   "outputs": [],
   "source": [
    "def div(a, b):\n",
    "    \"\"\"实现两数相除\"\"\"\n",
    "    try:\n",
    "        c = a / b\n",
    "    except ZeroDivisionError as e:\n",
    "        print('除数不能为0')\n",
    "        return\n",
    "    except TypeError as e:\n",
    "        print('除数或被除数类型不对，应该是数字')\n",
    "    else:\n",
    "        return c\n",
    "    finally:\n",
    "        print('即便有return，finally也会执行')"
   ]
  },
  {
   "cell_type": "code",
   "execution_count": 54,
   "id": "c7d7326e",
   "metadata": {},
   "outputs": [
    {
     "name": "stdout",
     "output_type": "stream",
     "text": [
      "即便有return，finally也会执行\n",
      "0.5\n"
     ]
    }
   ],
   "source": [
    "res = div(1, 2)\n",
    "print(res)"
   ]
  },
  {
   "cell_type": "code",
   "execution_count": 55,
   "id": "cb0dbc48",
   "metadata": {},
   "outputs": [
    {
     "name": "stdout",
     "output_type": "stream",
     "text": [
      "除数不能为0\n",
      "即便有return，finally也会执行\n",
      "None\n"
     ]
    }
   ],
   "source": [
    "res = div(1, 0)\n",
    "print(res)"
   ]
  },
  {
   "cell_type": "code",
   "execution_count": 56,
   "id": "643457ee",
   "metadata": {
    "scrolled": true
   },
   "outputs": [
    {
     "name": "stdout",
     "output_type": "stream",
     "text": [
      "除数或被除数类型不对，应该是数字\n",
      "即便有return，finally也会执行\n",
      "None\n"
     ]
    }
   ],
   "source": [
    "res = div('1', 2)\n",
    "print(res)"
   ]
  },
  {
   "cell_type": "code",
   "execution_count": 57,
   "id": "d1b01aa9",
   "metadata": {},
   "outputs": [],
   "source": [
    "import numpy as np"
   ]
  },
  {
   "cell_type": "code",
   "execution_count": 58,
   "id": "e4a4e233",
   "metadata": {},
   "outputs": [],
   "source": [
    "def is_negative_definite(a):\n",
    "    b = -a\n",
    "    if b.shape[0] != b.shape[1]:\n",
    "        return False\n",
    "    if not np.all(b.T == b):\n",
    "        return False\n",
    "    for i in range(b.shape[0]):\n",
    "        sequential_principle = b[:(i+1), :(i+1)]\n",
    "        if np.linalg.det(sequential_principle) <= 0:\n",
    "            return False\n",
    "    return True"
   ]
  },
  {
   "cell_type": "code",
   "execution_count": 59,
   "id": "922f2d86",
   "metadata": {},
   "outputs": [
    {
     "name": "stdout",
     "output_type": "stream",
     "text": [
      "False\n"
     ]
    }
   ],
   "source": [
    "a1 = np.array([[1,2,0],[2,1,1]])\n",
    "print(is_negative_definite(a1))"
   ]
  },
  {
   "cell_type": "code",
   "execution_count": 60,
   "id": "b61fda2d",
   "metadata": {},
   "outputs": [
    {
     "name": "stdout",
     "output_type": "stream",
     "text": [
      "False\n"
     ]
    }
   ],
   "source": [
    "a2 = np.array([[1,2],[3,1]])\n",
    "print(is_negative_definite(a2))"
   ]
  },
  {
   "cell_type": "code",
   "execution_count": 61,
   "id": "4aab36aa",
   "metadata": {},
   "outputs": [
    {
     "name": "stdout",
     "output_type": "stream",
     "text": [
      "False\n"
     ]
    }
   ],
   "source": [
    "a3 = np.array([[-1,2],[2,-1]])\n",
    "print(is_negative_definite(a3))"
   ]
  },
  {
   "cell_type": "code",
   "execution_count": 62,
   "id": "a87cf592",
   "metadata": {},
   "outputs": [
    {
     "name": "stdout",
     "output_type": "stream",
     "text": [
      "True\n"
     ]
    }
   ],
   "source": [
    "a4 = np.array([[-3,2],[2,-3]])\n",
    "print(is_negative_definite(a4))"
   ]
  },
  {
   "cell_type": "code",
   "execution_count": 30,
   "id": "f74f728f",
   "metadata": {},
   "outputs": [],
   "source": [
    "import pandas as pd"
   ]
  },
  {
   "cell_type": "code",
   "execution_count": 31,
   "id": "96dd5684",
   "metadata": {},
   "outputs": [],
   "source": [
    "df = pd.read_csv('成绩表示例.csv') # 将 成绩表示例.csv 和这个.ipynb文件放在一个文件夹下才能读取，否则需要写 成绩表示例.csv 的绝对路径"
   ]
  },
  {
   "cell_type": "code",
   "execution_count": 44,
   "id": "30acd9f1",
   "metadata": {},
   "outputs": [
    {
     "data": {
      "text/html": [
       "<div>\n",
       "<style scoped>\n",
       "    .dataframe tbody tr th:only-of-type {\n",
       "        vertical-align: middle;\n",
       "    }\n",
       "\n",
       "    .dataframe tbody tr th {\n",
       "        vertical-align: top;\n",
       "    }\n",
       "\n",
       "    .dataframe thead th {\n",
       "        text-align: right;\n",
       "    }\n",
       "</style>\n",
       "<table border=\"1\" class=\"dataframe\">\n",
       "  <thead>\n",
       "    <tr style=\"text-align: right;\">\n",
       "      <th></th>\n",
       "      <th>姓名</th>\n",
       "      <th>数学</th>\n",
       "      <th>语文</th>\n",
       "      <th>英语</th>\n",
       "    </tr>\n",
       "  </thead>\n",
       "  <tbody>\n",
       "    <tr>\n",
       "      <th>2</th>\n",
       "      <td>王十</td>\n",
       "      <td>94</td>\n",
       "      <td>68</td>\n",
       "      <td>80</td>\n",
       "    </tr>\n",
       "    <tr>\n",
       "      <th>3</th>\n",
       "      <td>冯廿</td>\n",
       "      <td>64</td>\n",
       "      <td>100</td>\n",
       "      <td>100</td>\n",
       "    </tr>\n",
       "    <tr>\n",
       "      <th>4</th>\n",
       "      <td>郑七</td>\n",
       "      <td>98</td>\n",
       "      <td>72</td>\n",
       "      <td>74</td>\n",
       "    </tr>\n",
       "  </tbody>\n",
       "</table>\n",
       "</div>"
      ],
      "text/plain": [
       "   姓名  数学   语文   英语\n",
       "2  王十  94   68   80\n",
       "3  冯廿  64  100  100\n",
       "4  郑七  98   72   74"
      ]
     },
     "execution_count": 44,
     "metadata": {},
     "output_type": "execute_result"
    }
   ],
   "source": [
    "df_part1 = df.iloc[2:5,[1,5,4,6]]\n",
    "df_part1"
   ]
  },
  {
   "cell_type": "code",
   "execution_count": 49,
   "id": "c2bfa39a",
   "metadata": {},
   "outputs": [
    {
     "data": {
      "text/html": [
       "<div>\n",
       "<style scoped>\n",
       "    .dataframe tbody tr th:only-of-type {\n",
       "        vertical-align: middle;\n",
       "    }\n",
       "\n",
       "    .dataframe tbody tr th {\n",
       "        vertical-align: top;\n",
       "    }\n",
       "\n",
       "    .dataframe thead th {\n",
       "        text-align: right;\n",
       "    }\n",
       "</style>\n",
       "<table border=\"1\" class=\"dataframe\">\n",
       "  <thead>\n",
       "    <tr style=\"text-align: right;\">\n",
       "      <th></th>\n",
       "      <th>姓名</th>\n",
       "      <th>数学</th>\n",
       "      <th>语文</th>\n",
       "      <th>英语</th>\n",
       "    </tr>\n",
       "  </thead>\n",
       "  <tbody>\n",
       "    <tr>\n",
       "      <th>2</th>\n",
       "      <td>王十</td>\n",
       "      <td>94</td>\n",
       "      <td>68</td>\n",
       "      <td>80</td>\n",
       "    </tr>\n",
       "    <tr>\n",
       "      <th>3</th>\n",
       "      <td>冯廿</td>\n",
       "      <td>64</td>\n",
       "      <td>100</td>\n",
       "      <td>100</td>\n",
       "    </tr>\n",
       "    <tr>\n",
       "      <th>4</th>\n",
       "      <td>郑七</td>\n",
       "      <td>98</td>\n",
       "      <td>72</td>\n",
       "      <td>74</td>\n",
       "    </tr>\n",
       "  </tbody>\n",
       "</table>\n",
       "</div>"
      ],
      "text/plain": [
       "   姓名  数学   语文   英语\n",
       "2  王十  94   68   80\n",
       "3  冯廿  64  100  100\n",
       "4  郑七  98   72   74"
      ]
     },
     "execution_count": 49,
     "metadata": {},
     "output_type": "execute_result"
    }
   ],
   "source": [
    "df_part2 = df.loc[2:4,['姓名','数学','语文','英语']]\n",
    "df_part2"
   ]
  },
  {
   "cell_type": "code",
   "execution_count": 50,
   "id": "8393b63c",
   "metadata": {},
   "outputs": [
    {
     "data": {
      "text/plain": [
       "True"
      ]
     },
     "execution_count": 50,
     "metadata": {},
     "output_type": "execute_result"
    }
   ],
   "source": [
    "df_part1.equals(df_part2)"
   ]
  },
  {
   "cell_type": "code",
   "execution_count": 54,
   "id": "c7dc301c",
   "metadata": {},
   "outputs": [],
   "source": [
    "df = df.set_index(['学号','班级'])"
   ]
  },
  {
   "cell_type": "code",
   "execution_count": 55,
   "id": "8eaadda7",
   "metadata": {},
   "outputs": [
    {
     "data": {
      "text/html": [
       "<div>\n",
       "<style scoped>\n",
       "    .dataframe tbody tr th:only-of-type {\n",
       "        vertical-align: middle;\n",
       "    }\n",
       "\n",
       "    .dataframe tbody tr th {\n",
       "        vertical-align: top;\n",
       "    }\n",
       "\n",
       "    .dataframe thead th {\n",
       "        text-align: right;\n",
       "    }\n",
       "</style>\n",
       "<table border=\"1\" class=\"dataframe\">\n",
       "  <thead>\n",
       "    <tr style=\"text-align: right;\">\n",
       "      <th></th>\n",
       "      <th></th>\n",
       "      <th>姓名</th>\n",
       "      <th>性别</th>\n",
       "      <th>语文</th>\n",
       "      <th>数学</th>\n",
       "      <th>英语</th>\n",
       "    </tr>\n",
       "    <tr>\n",
       "      <th>学号</th>\n",
       "      <th>班级</th>\n",
       "      <th></th>\n",
       "      <th></th>\n",
       "      <th></th>\n",
       "      <th></th>\n",
       "      <th></th>\n",
       "    </tr>\n",
       "  </thead>\n",
       "  <tbody>\n",
       "    <tr>\n",
       "      <th>103</th>\n",
       "      <th>2</th>\n",
       "      <td>吴六</td>\n",
       "      <td>男</td>\n",
       "      <td>87</td>\n",
       "      <td>74</td>\n",
       "      <td>79</td>\n",
       "    </tr>\n",
       "    <tr>\n",
       "      <th>105</th>\n",
       "      <th>1</th>\n",
       "      <td>赵一</td>\n",
       "      <td>男</td>\n",
       "      <td>92</td>\n",
       "      <td>58</td>\n",
       "      <td>56</td>\n",
       "    </tr>\n",
       "    <tr>\n",
       "      <th>110</th>\n",
       "      <th>3</th>\n",
       "      <td>王十</td>\n",
       "      <td>男</td>\n",
       "      <td>68</td>\n",
       "      <td>94</td>\n",
       "      <td>80</td>\n",
       "    </tr>\n",
       "    <tr>\n",
       "      <th>109</th>\n",
       "      <th>3</th>\n",
       "      <td>冯廿</td>\n",
       "      <td>女</td>\n",
       "      <td>100</td>\n",
       "      <td>64</td>\n",
       "      <td>100</td>\n",
       "    </tr>\n",
       "    <tr>\n",
       "      <th>107</th>\n",
       "      <th>3</th>\n",
       "      <td>郑七</td>\n",
       "      <td>女</td>\n",
       "      <td>72</td>\n",
       "      <td>98</td>\n",
       "      <td>74</td>\n",
       "    </tr>\n",
       "    <tr>\n",
       "      <th>104</th>\n",
       "      <th>2</th>\n",
       "      <td>周五</td>\n",
       "      <td>男</td>\n",
       "      <td>76</td>\n",
       "      <td>48</td>\n",
       "      <td>48</td>\n",
       "    </tr>\n",
       "    <tr>\n",
       "      <th>101</th>\n",
       "      <th>1</th>\n",
       "      <td>钱二</td>\n",
       "      <td>女</td>\n",
       "      <td>60</td>\n",
       "      <td>58</td>\n",
       "      <td>83</td>\n",
       "    </tr>\n",
       "    <tr>\n",
       "      <th>102</th>\n",
       "      <th>2</th>\n",
       "      <td>李四</td>\n",
       "      <td>女</td>\n",
       "      <td>88</td>\n",
       "      <td>97</td>\n",
       "      <td>79</td>\n",
       "    </tr>\n",
       "    <tr>\n",
       "      <th>106</th>\n",
       "      <th>1</th>\n",
       "      <td>孙三</td>\n",
       "      <td>男</td>\n",
       "      <td>90</td>\n",
       "      <td>51</td>\n",
       "      <td>93</td>\n",
       "    </tr>\n",
       "    <tr>\n",
       "      <th>108</th>\n",
       "      <th>3</th>\n",
       "      <td>张九</td>\n",
       "      <td>男</td>\n",
       "      <td>87</td>\n",
       "      <td>53</td>\n",
       "      <td>98</td>\n",
       "    </tr>\n",
       "  </tbody>\n",
       "</table>\n",
       "</div>"
      ],
      "text/plain": [
       "        姓名 性别   语文  数学   英语\n",
       "学号  班级                     \n",
       "103 2   吴六  男   87  74   79\n",
       "105 1   赵一  男   92  58   56\n",
       "110 3   王十  男   68  94   80\n",
       "109 3   冯廿  女  100  64  100\n",
       "107 3   郑七  女   72  98   74\n",
       "104 2   周五  男   76  48   48\n",
       "101 1   钱二  女   60  58   83\n",
       "102 2   李四  女   88  97   79\n",
       "106 1   孙三  男   90  51   93\n",
       "108 3   张九  男   87  53   98"
      ]
     },
     "execution_count": 55,
     "metadata": {},
     "output_type": "execute_result"
    }
   ],
   "source": [
    "df"
   ]
  },
  {
   "cell_type": "code",
   "execution_count": 56,
   "id": "ac678529",
   "metadata": {},
   "outputs": [],
   "source": [
    "df = df.swaplevel()"
   ]
  },
  {
   "cell_type": "code",
   "execution_count": 57,
   "id": "e23d1fe5",
   "metadata": {},
   "outputs": [
    {
     "data": {
      "text/html": [
       "<div>\n",
       "<style scoped>\n",
       "    .dataframe tbody tr th:only-of-type {\n",
       "        vertical-align: middle;\n",
       "    }\n",
       "\n",
       "    .dataframe tbody tr th {\n",
       "        vertical-align: top;\n",
       "    }\n",
       "\n",
       "    .dataframe thead th {\n",
       "        text-align: right;\n",
       "    }\n",
       "</style>\n",
       "<table border=\"1\" class=\"dataframe\">\n",
       "  <thead>\n",
       "    <tr style=\"text-align: right;\">\n",
       "      <th></th>\n",
       "      <th></th>\n",
       "      <th>姓名</th>\n",
       "      <th>性别</th>\n",
       "      <th>语文</th>\n",
       "      <th>数学</th>\n",
       "      <th>英语</th>\n",
       "    </tr>\n",
       "    <tr>\n",
       "      <th>班级</th>\n",
       "      <th>学号</th>\n",
       "      <th></th>\n",
       "      <th></th>\n",
       "      <th></th>\n",
       "      <th></th>\n",
       "      <th></th>\n",
       "    </tr>\n",
       "  </thead>\n",
       "  <tbody>\n",
       "    <tr>\n",
       "      <th>2</th>\n",
       "      <th>103</th>\n",
       "      <td>吴六</td>\n",
       "      <td>男</td>\n",
       "      <td>87</td>\n",
       "      <td>74</td>\n",
       "      <td>79</td>\n",
       "    </tr>\n",
       "    <tr>\n",
       "      <th>1</th>\n",
       "      <th>105</th>\n",
       "      <td>赵一</td>\n",
       "      <td>男</td>\n",
       "      <td>92</td>\n",
       "      <td>58</td>\n",
       "      <td>56</td>\n",
       "    </tr>\n",
       "    <tr>\n",
       "      <th rowspan=\"3\" valign=\"top\">3</th>\n",
       "      <th>110</th>\n",
       "      <td>王十</td>\n",
       "      <td>男</td>\n",
       "      <td>68</td>\n",
       "      <td>94</td>\n",
       "      <td>80</td>\n",
       "    </tr>\n",
       "    <tr>\n",
       "      <th>109</th>\n",
       "      <td>冯廿</td>\n",
       "      <td>女</td>\n",
       "      <td>100</td>\n",
       "      <td>64</td>\n",
       "      <td>100</td>\n",
       "    </tr>\n",
       "    <tr>\n",
       "      <th>107</th>\n",
       "      <td>郑七</td>\n",
       "      <td>女</td>\n",
       "      <td>72</td>\n",
       "      <td>98</td>\n",
       "      <td>74</td>\n",
       "    </tr>\n",
       "    <tr>\n",
       "      <th>2</th>\n",
       "      <th>104</th>\n",
       "      <td>周五</td>\n",
       "      <td>男</td>\n",
       "      <td>76</td>\n",
       "      <td>48</td>\n",
       "      <td>48</td>\n",
       "    </tr>\n",
       "    <tr>\n",
       "      <th>1</th>\n",
       "      <th>101</th>\n",
       "      <td>钱二</td>\n",
       "      <td>女</td>\n",
       "      <td>60</td>\n",
       "      <td>58</td>\n",
       "      <td>83</td>\n",
       "    </tr>\n",
       "    <tr>\n",
       "      <th>2</th>\n",
       "      <th>102</th>\n",
       "      <td>李四</td>\n",
       "      <td>女</td>\n",
       "      <td>88</td>\n",
       "      <td>97</td>\n",
       "      <td>79</td>\n",
       "    </tr>\n",
       "    <tr>\n",
       "      <th>1</th>\n",
       "      <th>106</th>\n",
       "      <td>孙三</td>\n",
       "      <td>男</td>\n",
       "      <td>90</td>\n",
       "      <td>51</td>\n",
       "      <td>93</td>\n",
       "    </tr>\n",
       "    <tr>\n",
       "      <th>3</th>\n",
       "      <th>108</th>\n",
       "      <td>张九</td>\n",
       "      <td>男</td>\n",
       "      <td>87</td>\n",
       "      <td>53</td>\n",
       "      <td>98</td>\n",
       "    </tr>\n",
       "  </tbody>\n",
       "</table>\n",
       "</div>"
      ],
      "text/plain": [
       "        姓名 性别   语文  数学   英语\n",
       "班级 学号                      \n",
       "2  103  吴六  男   87  74   79\n",
       "1  105  赵一  男   92  58   56\n",
       "3  110  王十  男   68  94   80\n",
       "   109  冯廿  女  100  64  100\n",
       "   107  郑七  女   72  98   74\n",
       "2  104  周五  男   76  48   48\n",
       "1  101  钱二  女   60  58   83\n",
       "2  102  李四  女   88  97   79\n",
       "1  106  孙三  男   90  51   93\n",
       "3  108  张九  男   87  53   98"
      ]
     },
     "execution_count": 57,
     "metadata": {},
     "output_type": "execute_result"
    }
   ],
   "source": [
    "df"
   ]
  },
  {
   "cell_type": "code",
   "execution_count": 58,
   "id": "4510faca",
   "metadata": {},
   "outputs": [],
   "source": [
    "df = df.sort_index()"
   ]
  },
  {
   "cell_type": "code",
   "execution_count": 59,
   "id": "829e2203",
   "metadata": {},
   "outputs": [
    {
     "data": {
      "text/html": [
       "<div>\n",
       "<style scoped>\n",
       "    .dataframe tbody tr th:only-of-type {\n",
       "        vertical-align: middle;\n",
       "    }\n",
       "\n",
       "    .dataframe tbody tr th {\n",
       "        vertical-align: top;\n",
       "    }\n",
       "\n",
       "    .dataframe thead th {\n",
       "        text-align: right;\n",
       "    }\n",
       "</style>\n",
       "<table border=\"1\" class=\"dataframe\">\n",
       "  <thead>\n",
       "    <tr style=\"text-align: right;\">\n",
       "      <th></th>\n",
       "      <th></th>\n",
       "      <th>姓名</th>\n",
       "      <th>性别</th>\n",
       "      <th>语文</th>\n",
       "      <th>数学</th>\n",
       "      <th>英语</th>\n",
       "    </tr>\n",
       "    <tr>\n",
       "      <th>班级</th>\n",
       "      <th>学号</th>\n",
       "      <th></th>\n",
       "      <th></th>\n",
       "      <th></th>\n",
       "      <th></th>\n",
       "      <th></th>\n",
       "    </tr>\n",
       "  </thead>\n",
       "  <tbody>\n",
       "    <tr>\n",
       "      <th rowspan=\"3\" valign=\"top\">1</th>\n",
       "      <th>101</th>\n",
       "      <td>钱二</td>\n",
       "      <td>女</td>\n",
       "      <td>60</td>\n",
       "      <td>58</td>\n",
       "      <td>83</td>\n",
       "    </tr>\n",
       "    <tr>\n",
       "      <th>105</th>\n",
       "      <td>赵一</td>\n",
       "      <td>男</td>\n",
       "      <td>92</td>\n",
       "      <td>58</td>\n",
       "      <td>56</td>\n",
       "    </tr>\n",
       "    <tr>\n",
       "      <th>106</th>\n",
       "      <td>孙三</td>\n",
       "      <td>男</td>\n",
       "      <td>90</td>\n",
       "      <td>51</td>\n",
       "      <td>93</td>\n",
       "    </tr>\n",
       "    <tr>\n",
       "      <th rowspan=\"3\" valign=\"top\">2</th>\n",
       "      <th>102</th>\n",
       "      <td>李四</td>\n",
       "      <td>女</td>\n",
       "      <td>88</td>\n",
       "      <td>97</td>\n",
       "      <td>79</td>\n",
       "    </tr>\n",
       "    <tr>\n",
       "      <th>103</th>\n",
       "      <td>吴六</td>\n",
       "      <td>男</td>\n",
       "      <td>87</td>\n",
       "      <td>74</td>\n",
       "      <td>79</td>\n",
       "    </tr>\n",
       "    <tr>\n",
       "      <th>104</th>\n",
       "      <td>周五</td>\n",
       "      <td>男</td>\n",
       "      <td>76</td>\n",
       "      <td>48</td>\n",
       "      <td>48</td>\n",
       "    </tr>\n",
       "    <tr>\n",
       "      <th rowspan=\"4\" valign=\"top\">3</th>\n",
       "      <th>107</th>\n",
       "      <td>郑七</td>\n",
       "      <td>女</td>\n",
       "      <td>72</td>\n",
       "      <td>98</td>\n",
       "      <td>74</td>\n",
       "    </tr>\n",
       "    <tr>\n",
       "      <th>108</th>\n",
       "      <td>张九</td>\n",
       "      <td>男</td>\n",
       "      <td>87</td>\n",
       "      <td>53</td>\n",
       "      <td>98</td>\n",
       "    </tr>\n",
       "    <tr>\n",
       "      <th>109</th>\n",
       "      <td>冯廿</td>\n",
       "      <td>女</td>\n",
       "      <td>100</td>\n",
       "      <td>64</td>\n",
       "      <td>100</td>\n",
       "    </tr>\n",
       "    <tr>\n",
       "      <th>110</th>\n",
       "      <td>王十</td>\n",
       "      <td>男</td>\n",
       "      <td>68</td>\n",
       "      <td>94</td>\n",
       "      <td>80</td>\n",
       "    </tr>\n",
       "  </tbody>\n",
       "</table>\n",
       "</div>"
      ],
      "text/plain": [
       "        姓名 性别   语文  数学   英语\n",
       "班级 学号                      \n",
       "1  101  钱二  女   60  58   83\n",
       "   105  赵一  男   92  58   56\n",
       "   106  孙三  男   90  51   93\n",
       "2  102  李四  女   88  97   79\n",
       "   103  吴六  男   87  74   79\n",
       "   104  周五  男   76  48   48\n",
       "3  107  郑七  女   72  98   74\n",
       "   108  张九  男   87  53   98\n",
       "   109  冯廿  女  100  64  100\n",
       "   110  王十  男   68  94   80"
      ]
     },
     "execution_count": 59,
     "metadata": {},
     "output_type": "execute_result"
    }
   ],
   "source": [
    "df"
   ]
  },
  {
   "cell_type": "code",
   "execution_count": 61,
   "id": "fcb31739",
   "metadata": {},
   "outputs": [
    {
     "data": {
      "text/html": [
       "<div>\n",
       "<style scoped>\n",
       "    .dataframe tbody tr th:only-of-type {\n",
       "        vertical-align: middle;\n",
       "    }\n",
       "\n",
       "    .dataframe tbody tr th {\n",
       "        vertical-align: top;\n",
       "    }\n",
       "\n",
       "    .dataframe thead th {\n",
       "        text-align: right;\n",
       "    }\n",
       "</style>\n",
       "<table border=\"1\" class=\"dataframe\">\n",
       "  <thead>\n",
       "    <tr style=\"text-align: right;\">\n",
       "      <th></th>\n",
       "      <th>语文</th>\n",
       "      <th>数学</th>\n",
       "      <th>英语</th>\n",
       "    </tr>\n",
       "    <tr>\n",
       "      <th>班级</th>\n",
       "      <th></th>\n",
       "      <th></th>\n",
       "      <th></th>\n",
       "    </tr>\n",
       "  </thead>\n",
       "  <tbody>\n",
       "    <tr>\n",
       "      <th>1</th>\n",
       "      <td>80.666667</td>\n",
       "      <td>55.666667</td>\n",
       "      <td>77.333333</td>\n",
       "    </tr>\n",
       "    <tr>\n",
       "      <th>2</th>\n",
       "      <td>83.666667</td>\n",
       "      <td>73.000000</td>\n",
       "      <td>68.666667</td>\n",
       "    </tr>\n",
       "    <tr>\n",
       "      <th>3</th>\n",
       "      <td>81.750000</td>\n",
       "      <td>77.250000</td>\n",
       "      <td>88.000000</td>\n",
       "    </tr>\n",
       "  </tbody>\n",
       "</table>\n",
       "</div>"
      ],
      "text/plain": [
       "           语文         数学         英语\n",
       "班级                                 \n",
       "1   80.666667  55.666667  77.333333\n",
       "2   83.666667  73.000000  68.666667\n",
       "3   81.750000  77.250000  88.000000"
      ]
     },
     "execution_count": 61,
     "metadata": {},
     "output_type": "execute_result"
    }
   ],
   "source": [
    "df[['语文', '数学', '英语']].groupby(level='班级').mean()"
   ]
  },
  {
   "cell_type": "code",
   "execution_count": 62,
   "id": "0c78d5f3",
   "metadata": {},
   "outputs": [
    {
     "data": {
      "text/html": [
       "<div>\n",
       "<style scoped>\n",
       "    .dataframe tbody tr th:only-of-type {\n",
       "        vertical-align: middle;\n",
       "    }\n",
       "\n",
       "    .dataframe tbody tr th {\n",
       "        vertical-align: top;\n",
       "    }\n",
       "\n",
       "    .dataframe thead th {\n",
       "        text-align: right;\n",
       "    }\n",
       "</style>\n",
       "<table border=\"1\" class=\"dataframe\">\n",
       "  <thead>\n",
       "    <tr style=\"text-align: right;\">\n",
       "      <th></th>\n",
       "      <th>语文</th>\n",
       "      <th>数学</th>\n",
       "      <th>英语</th>\n",
       "    </tr>\n",
       "    <tr>\n",
       "      <th>性别</th>\n",
       "      <th></th>\n",
       "      <th></th>\n",
       "      <th></th>\n",
       "    </tr>\n",
       "  </thead>\n",
       "  <tbody>\n",
       "    <tr>\n",
       "      <th>女</th>\n",
       "      <td>80.000000</td>\n",
       "      <td>79.25</td>\n",
       "      <td>84.000000</td>\n",
       "    </tr>\n",
       "    <tr>\n",
       "      <th>男</th>\n",
       "      <td>83.333333</td>\n",
       "      <td>63.00</td>\n",
       "      <td>75.666667</td>\n",
       "    </tr>\n",
       "  </tbody>\n",
       "</table>\n",
       "</div>"
      ],
      "text/plain": [
       "           语文     数学         英语\n",
       "性别                             \n",
       "女   80.000000  79.25  84.000000\n",
       "男   83.333333  63.00  75.666667"
      ]
     },
     "execution_count": 62,
     "metadata": {},
     "output_type": "execute_result"
    }
   ],
   "source": [
    "df[['性别', '语文', '数学', '英语']].groupby(by='性别').mean()"
   ]
  },
  {
   "cell_type": "code",
   "execution_count": 63,
   "id": "60dcffd2",
   "metadata": {},
   "outputs": [
    {
     "data": {
      "text/html": [
       "<div>\n",
       "<style scoped>\n",
       "    .dataframe tbody tr th:only-of-type {\n",
       "        vertical-align: middle;\n",
       "    }\n",
       "\n",
       "    .dataframe tbody tr th {\n",
       "        vertical-align: top;\n",
       "    }\n",
       "\n",
       "    .dataframe thead th {\n",
       "        text-align: right;\n",
       "    }\n",
       "</style>\n",
       "<table border=\"1\" class=\"dataframe\">\n",
       "  <thead>\n",
       "    <tr style=\"text-align: right;\">\n",
       "      <th></th>\n",
       "      <th></th>\n",
       "      <th>姓名</th>\n",
       "      <th>性别</th>\n",
       "      <th>语文</th>\n",
       "      <th>数学</th>\n",
       "      <th>英语</th>\n",
       "    </tr>\n",
       "    <tr>\n",
       "      <th>班级</th>\n",
       "      <th>学号</th>\n",
       "      <th></th>\n",
       "      <th></th>\n",
       "      <th></th>\n",
       "      <th></th>\n",
       "      <th></th>\n",
       "    </tr>\n",
       "  </thead>\n",
       "  <tbody>\n",
       "    <tr>\n",
       "      <th>3</th>\n",
       "      <th>107</th>\n",
       "      <td>郑七</td>\n",
       "      <td>女</td>\n",
       "      <td>72</td>\n",
       "      <td>98</td>\n",
       "      <td>74</td>\n",
       "    </tr>\n",
       "    <tr>\n",
       "      <th>2</th>\n",
       "      <th>102</th>\n",
       "      <td>李四</td>\n",
       "      <td>女</td>\n",
       "      <td>88</td>\n",
       "      <td>97</td>\n",
       "      <td>79</td>\n",
       "    </tr>\n",
       "    <tr>\n",
       "      <th>3</th>\n",
       "      <th>110</th>\n",
       "      <td>王十</td>\n",
       "      <td>男</td>\n",
       "      <td>68</td>\n",
       "      <td>94</td>\n",
       "      <td>80</td>\n",
       "    </tr>\n",
       "    <tr>\n",
       "      <th>2</th>\n",
       "      <th>103</th>\n",
       "      <td>吴六</td>\n",
       "      <td>男</td>\n",
       "      <td>87</td>\n",
       "      <td>74</td>\n",
       "      <td>79</td>\n",
       "    </tr>\n",
       "    <tr>\n",
       "      <th>3</th>\n",
       "      <th>109</th>\n",
       "      <td>冯廿</td>\n",
       "      <td>女</td>\n",
       "      <td>100</td>\n",
       "      <td>64</td>\n",
       "      <td>100</td>\n",
       "    </tr>\n",
       "    <tr>\n",
       "      <th rowspan=\"2\" valign=\"top\">1</th>\n",
       "      <th>101</th>\n",
       "      <td>钱二</td>\n",
       "      <td>女</td>\n",
       "      <td>60</td>\n",
       "      <td>58</td>\n",
       "      <td>83</td>\n",
       "    </tr>\n",
       "    <tr>\n",
       "      <th>105</th>\n",
       "      <td>赵一</td>\n",
       "      <td>男</td>\n",
       "      <td>92</td>\n",
       "      <td>58</td>\n",
       "      <td>56</td>\n",
       "    </tr>\n",
       "    <tr>\n",
       "      <th>3</th>\n",
       "      <th>108</th>\n",
       "      <td>张九</td>\n",
       "      <td>男</td>\n",
       "      <td>87</td>\n",
       "      <td>53</td>\n",
       "      <td>98</td>\n",
       "    </tr>\n",
       "    <tr>\n",
       "      <th>1</th>\n",
       "      <th>106</th>\n",
       "      <td>孙三</td>\n",
       "      <td>男</td>\n",
       "      <td>90</td>\n",
       "      <td>51</td>\n",
       "      <td>93</td>\n",
       "    </tr>\n",
       "    <tr>\n",
       "      <th>2</th>\n",
       "      <th>104</th>\n",
       "      <td>周五</td>\n",
       "      <td>男</td>\n",
       "      <td>76</td>\n",
       "      <td>48</td>\n",
       "      <td>48</td>\n",
       "    </tr>\n",
       "  </tbody>\n",
       "</table>\n",
       "</div>"
      ],
      "text/plain": [
       "        姓名 性别   语文  数学   英语\n",
       "班级 学号                      \n",
       "3  107  郑七  女   72  98   74\n",
       "2  102  李四  女   88  97   79\n",
       "3  110  王十  男   68  94   80\n",
       "2  103  吴六  男   87  74   79\n",
       "3  109  冯廿  女  100  64  100\n",
       "1  101  钱二  女   60  58   83\n",
       "   105  赵一  男   92  58   56\n",
       "3  108  张九  男   87  53   98\n",
       "1  106  孙三  男   90  51   93\n",
       "2  104  周五  男   76  48   48"
      ]
     },
     "execution_count": 63,
     "metadata": {},
     "output_type": "execute_result"
    }
   ],
   "source": [
    "df.sort_values(by='数学', ascending=False)"
   ]
  },
  {
   "cell_type": "code",
   "execution_count": 64,
   "id": "7a46384a",
   "metadata": {},
   "outputs": [
    {
     "data": {
      "text/html": [
       "<div>\n",
       "<style scoped>\n",
       "    .dataframe tbody tr th:only-of-type {\n",
       "        vertical-align: middle;\n",
       "    }\n",
       "\n",
       "    .dataframe tbody tr th {\n",
       "        vertical-align: top;\n",
       "    }\n",
       "\n",
       "    .dataframe thead th {\n",
       "        text-align: right;\n",
       "    }\n",
       "</style>\n",
       "<table border=\"1\" class=\"dataframe\">\n",
       "  <thead>\n",
       "    <tr style=\"text-align: right;\">\n",
       "      <th></th>\n",
       "      <th></th>\n",
       "      <th>姓名</th>\n",
       "      <th>性别</th>\n",
       "      <th>语文</th>\n",
       "      <th>数学</th>\n",
       "      <th>英语</th>\n",
       "    </tr>\n",
       "    <tr>\n",
       "      <th>班级</th>\n",
       "      <th>学号</th>\n",
       "      <th></th>\n",
       "      <th></th>\n",
       "      <th></th>\n",
       "      <th></th>\n",
       "      <th></th>\n",
       "    </tr>\n",
       "  </thead>\n",
       "  <tbody>\n",
       "    <tr>\n",
       "      <th>3</th>\n",
       "      <th>109</th>\n",
       "      <td>冯廿</td>\n",
       "      <td>女</td>\n",
       "      <td>100</td>\n",
       "      <td>64</td>\n",
       "      <td>100</td>\n",
       "    </tr>\n",
       "    <tr>\n",
       "      <th rowspan=\"2\" valign=\"top\">1</th>\n",
       "      <th>105</th>\n",
       "      <td>赵一</td>\n",
       "      <td>男</td>\n",
       "      <td>92</td>\n",
       "      <td>58</td>\n",
       "      <td>56</td>\n",
       "    </tr>\n",
       "    <tr>\n",
       "      <th>106</th>\n",
       "      <td>孙三</td>\n",
       "      <td>男</td>\n",
       "      <td>90</td>\n",
       "      <td>51</td>\n",
       "      <td>93</td>\n",
       "    </tr>\n",
       "    <tr>\n",
       "      <th rowspan=\"2\" valign=\"top\">2</th>\n",
       "      <th>102</th>\n",
       "      <td>李四</td>\n",
       "      <td>女</td>\n",
       "      <td>88</td>\n",
       "      <td>97</td>\n",
       "      <td>79</td>\n",
       "    </tr>\n",
       "    <tr>\n",
       "      <th>103</th>\n",
       "      <td>吴六</td>\n",
       "      <td>男</td>\n",
       "      <td>87</td>\n",
       "      <td>74</td>\n",
       "      <td>79</td>\n",
       "    </tr>\n",
       "    <tr>\n",
       "      <th>3</th>\n",
       "      <th>108</th>\n",
       "      <td>张九</td>\n",
       "      <td>男</td>\n",
       "      <td>87</td>\n",
       "      <td>53</td>\n",
       "      <td>98</td>\n",
       "    </tr>\n",
       "    <tr>\n",
       "      <th>2</th>\n",
       "      <th>104</th>\n",
       "      <td>周五</td>\n",
       "      <td>男</td>\n",
       "      <td>76</td>\n",
       "      <td>48</td>\n",
       "      <td>48</td>\n",
       "    </tr>\n",
       "    <tr>\n",
       "      <th rowspan=\"2\" valign=\"top\">3</th>\n",
       "      <th>107</th>\n",
       "      <td>郑七</td>\n",
       "      <td>女</td>\n",
       "      <td>72</td>\n",
       "      <td>98</td>\n",
       "      <td>74</td>\n",
       "    </tr>\n",
       "    <tr>\n",
       "      <th>110</th>\n",
       "      <td>王十</td>\n",
       "      <td>男</td>\n",
       "      <td>68</td>\n",
       "      <td>94</td>\n",
       "      <td>80</td>\n",
       "    </tr>\n",
       "    <tr>\n",
       "      <th>1</th>\n",
       "      <th>101</th>\n",
       "      <td>钱二</td>\n",
       "      <td>女</td>\n",
       "      <td>60</td>\n",
       "      <td>58</td>\n",
       "      <td>83</td>\n",
       "    </tr>\n",
       "  </tbody>\n",
       "</table>\n",
       "</div>"
      ],
      "text/plain": [
       "        姓名 性别   语文  数学   英语\n",
       "班级 学号                      \n",
       "3  109  冯廿  女  100  64  100\n",
       "1  105  赵一  男   92  58   56\n",
       "   106  孙三  男   90  51   93\n",
       "2  102  李四  女   88  97   79\n",
       "   103  吴六  男   87  74   79\n",
       "3  108  张九  男   87  53   98\n",
       "2  104  周五  男   76  48   48\n",
       "3  107  郑七  女   72  98   74\n",
       "   110  王十  男   68  94   80\n",
       "1  101  钱二  女   60  58   83"
      ]
     },
     "execution_count": 64,
     "metadata": {},
     "output_type": "execute_result"
    }
   ],
   "source": [
    "df.sort_values(by=['语文', '数学', '英语'], ascending=False)"
   ]
  },
  {
   "cell_type": "code",
   "execution_count": 68,
   "id": "2ead1323",
   "metadata": {},
   "outputs": [
    {
     "data": {
      "text/html": [
       "<!DOCTYPE html>\n",
       "<html>\n",
       " <head>\n",
       "  <meta charset=\"utf-8\"/>\n",
       "  <title>我的第一个网页</title>\n",
       " </head>\n",
       " <body>\n",
       "  <h1 align=\"center\">这是一个居中的标题</h1>\n",
       "  <p>这是个段落，后面有个超链接\n",
       "   <a href=\"https://www.baidu.com\" target=\"_blank\">这是一个超链接</a>\n",
       "  </p>\n",
       "  <img src=\"http://www.wanglabtools.cn/WechatMiniProgram_AppleLeaf.jpeg\"/>\n",
       " </body>\n",
       "</html>\n"
      ],
      "text/plain": [
       "<IPython.core.display.HTML object>"
      ]
     },
     "metadata": {},
     "output_type": "display_data"
    }
   ],
   "source": [
    "%%html\n",
    "<!DOCTYPE html>\n",
    "<html>\n",
    " <head>\n",
    "  <meta charset=\"utf-8\"/>\n",
    "  <title>我的第一个网页</title>\n",
    " </head>\n",
    " <body>\n",
    "  <h1 align=\"center\">这是一个居中的标题</h1>\n",
    "  <p>这是个段落，后面有个超链接\n",
    "   <a href=\"https://www.baidu.com\" target=\"_blank\">这是一个超链接</a>\n",
    "  </p>\n",
    "  <img src=\"http://www.wanglabtools.cn/WechatMiniProgram_AppleLeaf.jpeg\"/>\n",
    " </body>\n",
    "</html>"
   ]
  },
  {
   "cell_type": "code",
   "execution_count": 76,
   "id": "7f4aa20b",
   "metadata": {},
   "outputs": [
    {
     "name": "stdout",
     "output_type": "stream",
     "text": [
      "<!DOCTYPE html>\n",
      "<html>\n",
      " <head>\n",
      "  <meta charset=\"utf-8\"/>\n",
      "  <title>苹果叶</title>\n",
      " </head>\n",
      " <body>\n",
      "  <h1>苹果叶</h1>\n",
      "  <p>展示4张苹果叶照片</p>\n",
      "  <h2>健康</h2>\n",
      "  <img alt=\"健康\" src=\"http://www.wanglabtools.cn/appleleafimages/health.JPG\"/>\n",
      "  <h2>锈病</h2>\n",
      "  <img alt=\"锈病\" src=\"http://www.wanglabtools.cn/appleleafimages/rust.JPG\"/>\n",
      "  <h2>疮痂病</h2>\n",
      "  <img alt=\"疮痂病\" src=\"http://www.wanglabtools.cn/appleleafimages/scab.JPG\"/>\n",
      "  <h2>同时患有锈病和疮痂病</h2>\n",
      "  <img alt=\"同时患有锈病和疮痂病\" src=\"http://www.wanglabtools.cn/appleleafimages/both.JPG\"/>\n",
      " </body>\n",
      "</html>\n",
      "\n"
     ]
    }
   ],
   "source": [
    "import urllib\n",
    "url = \"http://www.wanglabtools.cn/teach/python3/html/appleleaf/index.html\"\n",
    "with urllib.request.urlopen(url) as f:\n",
    "    html_doc = f.read().decode('utf-8')\n",
    "print(html_doc)"
   ]
  },
  {
   "cell_type": "code",
   "execution_count": 77,
   "id": "0d6fe4c4",
   "metadata": {},
   "outputs": [],
   "source": [
    "import bs4\n",
    "soup = bs4.BeautifulSoup(html_doc, 'html.parser')"
   ]
  },
  {
   "cell_type": "code",
   "execution_count": 78,
   "id": "e4cb35ed",
   "metadata": {},
   "outputs": [
    {
     "data": {
      "text/plain": [
       "'展示4张苹果叶照片'"
      ]
     },
     "execution_count": 78,
     "metadata": {},
     "output_type": "execute_result"
    }
   ],
   "source": [
    "soup.find(string='展示4张苹果叶照片')"
   ]
  },
  {
   "cell_type": "code",
   "execution_count": 79,
   "id": "4c10cee0",
   "metadata": {},
   "outputs": [
    {
     "name": "stdout",
     "output_type": "stream",
     "text": [
      "['http://www.wanglabtools.cn/appleleafimages/health.JPG', 'http://www.wanglabtools.cn/appleleafimages/rust.JPG', 'http://www.wanglabtools.cn/appleleafimages/scab.JPG', 'http://www.wanglabtools.cn/appleleafimages/both.JPG']\n"
     ]
    }
   ],
   "source": [
    "img_url_list = []\n",
    "for img in soup.find_all('img'):\n",
    "    img_url_list.append(img['src'])\n",
    "print(img_url_list)"
   ]
  },
  {
   "cell_type": "code",
   "execution_count": 80,
   "id": "8af69b62",
   "metadata": {},
   "outputs": [],
   "source": [
    "import urllib\n",
    "\n",
    "url = \"http://www.wanglabtools.cn/teach/python3/io/example.tsv\"\n",
    "with urllib.request.urlopen(url) as f:\n",
    "    table = f.read().decode('utf-8')"
   ]
  },
  {
   "cell_type": "code",
   "execution_count": 81,
   "id": "426d8c72",
   "metadata": {},
   "outputs": [
    {
     "name": "stdout",
     "output_type": "stream",
     "text": [
      "学号\t姓名\t性别\t班级\t语文\t数学\t英语\n",
      "103\t吴六\t男\t2\t87\t74\t79\n",
      "105\t赵一\t男\t1\t92\t58\t56\n",
      "110\t王十\t男\t3\t68\t94\t80\n",
      "109\t冯廿\t女\t3\t100\t64\t100\n",
      "107\t郑七\t女\t3\t72\t98\t74\n",
      "104\t周五\t男\t2\t76\t48\t48\n",
      "101\t钱二\t女\t1\t60\t58\t83\n",
      "102\t李四\t女\t2\t88\t97\t79\n",
      "106\t孙三\t男\t1\t90\t51\t93\n",
      "108\t张九\t男\t3\t87\t53\t98\n",
      "\n"
     ]
    }
   ],
   "source": [
    "print(table)"
   ]
  },
  {
   "cell_type": "code",
   "execution_count": 82,
   "id": "a1f9b730",
   "metadata": {},
   "outputs": [],
   "source": [
    "with open('score.tsv', 'w') as f:\n",
    "    f.write(table)"
   ]
  },
  {
   "cell_type": "code",
   "execution_count": 83,
   "id": "845291de",
   "metadata": {},
   "outputs": [],
   "source": [
    "with open('score.tsv', 'r') as f_in:\n",
    "    with open('score.csv', 'w') as f_out:\n",
    "        for line in f_in:\n",
    "            fields = line.strip().split('\\t')\n",
    "            new_line = ','.join(fields)\n",
    "            f_out.write(new_line + '\\n')"
   ]
  },
  {
   "cell_type": "code",
   "execution_count": 84,
   "id": "9eec3836",
   "metadata": {},
   "outputs": [
    {
     "name": "stdout",
     "output_type": "stream",
     "text": [
      "学号,姓名,性别,班级,语文,数学,英语\n",
      "103,吴六,男,2,87,74,79\n",
      "105,赵一,男,1,92,58,56\n",
      "110,王十,男,3,68,94,80\n",
      "109,冯廿,女,3,100,64,100\n",
      "107,郑七,女,3,72,98,74\n",
      "104,周五,男,2,76,48,48\n",
      "101,钱二,女,1,60,58,83\n",
      "102,李四,女,2,88,97,79\n",
      "106,孙三,男,1,90,51,93\n",
      "108,张九,男,3,87,53,98\n"
     ]
    }
   ],
   "source": [
    "with open('score.csv', 'r') as f:\n",
    "    for line in f:\n",
    "        print(line, end='')"
   ]
  },
  {
   "cell_type": "code",
   "execution_count": 85,
   "id": "4a543e32",
   "metadata": {},
   "outputs": [
    {
     "data": {
      "image/png": "[encoded data removed]",
      "text/plain": [
       "<Figure size 640x480 with 1 Axes>"
      ]
     },
     "metadata": {},
     "output_type": "display_data"
    }
   ],
   "source": [
    "import numpy as np\n",
    "import matplotlib.pyplot as plt\n",
    "from matplotlib import style\n",
    "\n",
    "style.use('default')\n",
    "style.use('ggplot')\n",
    "# 这是Mac下避免中文乱码的配置方法，Windows和Linux下需要同学们自己查找配置方法\n",
    "plt.rcParams['font.sans-serif'] = ['Arial Unicode MS']\n",
    "# 创建X轴的数据：从-π到π的50个等差数字\n",
    "x = np.linspace(-np.pi, np.pi, 50, endpoint=True)\n",
    "\n",
    "# 使用cos和sin函数以x为自变量创建cosx和sinx\n",
    "cosx = np.cos(x)\n",
    "sinx = np.sin(x)\n",
    "\n",
    "# 使用plot()分别绘制正弦和余弦函数\n",
    "plt.plot(x, cosx, label='cos(x)', linestyle='-', linewidth='3', alpha=1)\n",
    "plt.plot(x, sinx, label='sin(x)', linestyle='--', linewidth='3', alpha=0.5)\n",
    "plt.xlim(-4, 4)\n",
    "plt.ylim(-1.2, 1.2)\n",
    "plt.legend(loc='upper left')\n",
    "notex = np.array([np.arctan(1), -np.pi+np.arctan(1)])\n",
    "notey = np.sin(notex)\n",
    "plt.scatter(notex, notey, s=100, color=\"#000000\", alpha=0.5)\n",
    "plt.annotate('({:.2f}, {:.2f})'.format(notex[0], notey[0]), xy=(notex[0]+0.2, notey[0]-0.02), xycoords='data', fontsize=10)\n",
    "plt.annotate('({:.2f}, {:.2f})'.format(notex[1], notey[1]), xy=(notex[1]+0.2, notey[1]-0.02), xycoords='data', fontsize=10)\n",
    "plt.xlabel('x')\n",
    "plt.ylabel('y')\n",
    "plt.title('三角函数')\n",
    "plt.show()"
   ]
  },
  {
   "cell_type": "code",
   "execution_count": 86,
   "id": "f648ecd4",
   "metadata": {},
   "outputs": [
    {
     "data": {
      "image/png": "[encoded data removed]",
      "text/plain": [
       "<Figure size 640x480 with 1 Axes>"
      ]
     },
     "metadata": {},
     "output_type": "display_data"
    }
   ],
   "source": [
    "import numpy as np\n",
    "import matplotlib.pyplot as plt\n",
    "\n",
    "style.use('default')\n",
    "style.use('dark_background')\n",
    "# Mac下避免中文乱码的配置\n",
    "plt.rcParams['font.sans-serif'] = ['Arial Unicode MS']\n",
    "\n",
    "# 柱子总数\n",
    "N = 12\n",
    "# 包含每个柱子下标的序列\n",
    "index = np.arange(N)\n",
    "# 包含每个柱子对应值的序列\n",
    "values = (5,16,20,25,23,28,32,34,28,22,17,7)\n",
    "# 柱子的宽度\n",
    "width=0.5\n",
    "# 绘制柱状图 , 每根柱子的颜色为蓝色\n",
    "plt.bar(index, values, width, label=\"月均气温\", color=\"#87CEFA\")\n",
    "# 设置横轴标签\n",
    "plt.xlabel('月份')\n",
    "# 设置纵轴标签\n",
    "plt.ylabel('温度(摄氏度)')\n",
    "# 添加标题\n",
    "plt.title('月均气温')\n",
    "# 添加纵横轴的刻度\n",
    "plt.xticks(index, ('一月', '二月', '三月', '四月', '五月', '六月', '七月', '八月', '九月', '十月', '十一月', '十二月'))\n",
    "plt.yticks(np.arange(0,50,10))\n",
    "# 添加图例\n",
    "plt.legend(loc=\"upper right\")\n",
    "plt.show()"
   ]
  },
  {
   "cell_type": "code",
   "execution_count": 87,
   "id": "c475c545",
   "metadata": {},
   "outputs": [
    {
     "data": {
      "image/png": "[encoded data removed]",
      "text/plain": [
       "<Figure size 800x550 with 1 Axes>"
      ]
     },
     "metadata": {},
     "output_type": "display_data"
    }
   ],
   "source": [
    "import numpy as np\n",
    "import matplotlib.pyplot as plt\n",
    "\n",
    "style.use('default')\n",
    "style.use('seaborn')\n",
    "# Mac下避免中文乱码的配置\n",
    "plt.rcParams['font.sans-serif'] = ['Arial Unicode MS']\n",
    "\n",
    "labels = '优秀', '良好', '中等', '不及格'\n",
    "sizes = [5, 20, 15, 3]\n",
    "explode = (0.1, 0, 0, 0)  # 将“优秀”突出显示\n",
    "\n",
    "fig1, ax1 = plt.subplots()\n",
    "ax1.pie(sizes, explode=explode, labels=labels,\n",
    "        autopct='%1.1f%%', shadow=True,\n",
    "        startangle=90)\n",
    "ax1.axis('equal')  # 确保饼图是个圆形\n",
    "plt.title('Python与数据分析成绩分布')\n",
    "plt.show()"
   ]
  },
  {
   "cell_type": "code",
   "execution_count": 88,
   "id": "0220a929",
   "metadata": {},
   "outputs": [],
   "source": [
    "# 导入SQLite驱动\n",
    "import sqlite3"
   ]
  },
  {
   "cell_type": "code",
   "execution_count": 89,
   "id": "6c9bfb75",
   "metadata": {},
   "outputs": [],
   "source": [
    "# 连接到SQLite数据库\n",
    "# 数据库文件是python_course.db\n",
    "# 如果文件不存在，会自动在当前目录创建\n",
    "conn = sqlite3.connect('python_course.db')"
   ]
  },
  {
   "cell_type": "code",
   "execution_count": 90,
   "id": "5ac4cbb8",
   "metadata": {},
   "outputs": [],
   "source": [
    "# 创建一个Cursor\n",
    "cursor = conn.cursor()"
   ]
  },
  {
   "cell_type": "code",
   "execution_count": 91,
   "id": "da971e2f",
   "metadata": {},
   "outputs": [
    {
     "data": {
      "text/plain": [
       "<sqlite3.Cursor at 0x7fdc4dfaf650>"
      ]
     },
     "execution_count": 91,
     "metadata": {},
     "output_type": "execute_result"
    }
   ],
   "source": [
    "# 执行一条SQL语句，删除student_score表\n",
    "sql = 'drop table if exists student_score'\n",
    "cursor.execute(sql)"
   ]
  },
  {
   "cell_type": "code",
   "execution_count": 92,
   "id": "9e8e7cd7",
   "metadata": {},
   "outputs": [
    {
     "data": {
      "text/plain": [
       "<sqlite3.Cursor at 0x7fdc4dfaf650>"
      ]
     },
     "execution_count": 92,
     "metadata": {},
     "output_type": "execute_result"
    }
   ],
   "source": [
    "# 执行一条SQL语句，创建student_score表\n",
    "sql = \"\"\"\n",
    "    create table student_score (\n",
    "    id varchar(20) primary key not null,\n",
    "    name varchar(20),\n",
    "    gender char(3),\n",
    "    score float\n",
    "    )\n",
    "\"\"\"\n",
    "cursor.execute(sql)"
   ]
  },
  {
   "cell_type": "code",
   "execution_count": 93,
   "id": "65624c4a",
   "metadata": {},
   "outputs": [],
   "source": [
    "# SQL 插入语句\n",
    "sql = \"\"\"\n",
    "    insert into student_score (id, name, gender, score)\n",
    "    values ('001', '张三', '男', 90)\n",
    "\"\"\"\n",
    "try:\n",
    "    # 执行sql语句\n",
    "    cursor.execute(sql)\n",
    "    # 提交到数据库执行\n",
    "    conn.commit()\n",
    "except Exception as e:\n",
    "    # Rollback in case there is any error\n",
    "    print(e)\n",
    "    conn.rollback()"
   ]
  },
  {
   "cell_type": "code",
   "execution_count": 94,
   "id": "381e6929",
   "metadata": {},
   "outputs": [
    {
     "name": "stdout",
     "output_type": "stream",
     "text": [
      "id=001,name=张三,gender=男,score=90\n"
     ]
    }
   ],
   "source": [
    "# SQL 查询语句\n",
    "sql = \"select * from student_score\"\n",
    "\n",
    "# 执行SQL语句\n",
    "cursor.execute(sql)\n",
    "# 获取所有记录列表\n",
    "results = cursor.fetchall()\n",
    "for row in results:\n",
    "    id_, name, gender, score = row\n",
    "    # 打印结果\n",
    "    print(\"id=%s,name=%s,gender=%s,score=%d\" % \\\n",
    "         (id_, name, gender, score))"
   ]
  },
  {
   "cell_type": "code",
   "execution_count": 95,
   "id": "fb6035ed",
   "metadata": {},
   "outputs": [],
   "source": [
    "# SQL 插入语句，一次插入多条记录\n",
    "sql = \"\"\"\n",
    "    insert into student_score (id, name, gender, score)\n",
    "    values ('002', '李四', '女', 80), ('003', '王五', '男', 95)\n",
    "\"\"\"\n",
    "try:\n",
    "    # 执行sql语句\n",
    "    cursor.execute(sql)\n",
    "    # 提交到数据库执行\n",
    "    conn.commit()\n",
    "except Exception as e:\n",
    "    # Rollback in case there is any error\n",
    "    print(e)\n",
    "    conn.rollback()"
   ]
  },
  {
   "cell_type": "code",
   "execution_count": 96,
   "id": "a96b490c",
   "metadata": {},
   "outputs": [
    {
     "name": "stdout",
     "output_type": "stream",
     "text": [
      "id=001,name=张三,gender=男,score=90\n",
      "id=002,name=李四,gender=女,score=80\n",
      "id=003,name=王五,gender=男,score=95\n"
     ]
    }
   ],
   "source": [
    "# SQL 查询语句\n",
    "sql = \"select * from student_score\"\n",
    "try:\n",
    "    # 执行SQL语句\n",
    "    cursor.execute(sql)\n",
    "    # 获取所有记录列表\n",
    "    results = cursor.fetchall()\n",
    "    for row in results:\n",
    "        id_, name, gender, score = row\n",
    "        # 打印结果\n",
    "        print(\"id=%s,name=%s,gender=%s,score=%d\" % \\\n",
    "             (id_, name, gender, score))\n",
    "except Exception as e:\n",
    "    print(e)\n",
    "    print(\"Error: unable to fecth data\")"
   ]
  },
  {
   "cell_type": "code",
   "execution_count": 97,
   "id": "185bc3aa",
   "metadata": {},
   "outputs": [
    {
     "name": "stdout",
     "output_type": "stream",
     "text": [
      "id=001,name=张三,gender=男,score=90\n",
      "id=003,name=王五,gender=男,score=95\n"
     ]
    }
   ],
   "source": [
    "# SQL 查询语句\n",
    "sql = \"select * from student_score \\\n",
    "       where score >= %d\" % (85)\n",
    "\n",
    "# 执行SQL语句\n",
    "cursor.execute(sql)\n",
    "# 获取所有记录列表\n",
    "results = cursor.fetchall()\n",
    "for row in results:\n",
    "    id_, name, gender, score = row\n",
    "    # 打印结果\n",
    "    print(\"id=%s,name=%s,gender=%s,score=%d\" % \\\n",
    "         (id_, name, gender, score))"
   ]
  },
  {
   "cell_type": "code",
   "execution_count": 98,
   "id": "1f5b4744",
   "metadata": {},
   "outputs": [],
   "source": [
    "# SQL 更新语句\n",
    "sql = \"update student_score set score = 59 where name = '%s'\" % ('王五')\n",
    "try:\n",
    "    # 执行SQL语句\n",
    "    cursor.execute(sql)\n",
    "    # 提交到数据库执行\n",
    "    conn.commit()\n",
    "except Exception as e:\n",
    "    # 发生错误时回滚\n",
    "    print(e)\n",
    "    conn.rollback()"
   ]
  },
  {
   "cell_type": "code",
   "execution_count": 99,
   "id": "19c110e3",
   "metadata": {},
   "outputs": [
    {
     "name": "stdout",
     "output_type": "stream",
     "text": [
      "id=001,name=张三,gender=男,score=90\n",
      "id=002,name=李四,gender=女,score=80\n",
      "id=003,name=王五,gender=男,score=59\n"
     ]
    }
   ],
   "source": [
    "# SQL 查询语句\n",
    "sql = \"select * from student_score\"\n",
    "\n",
    "# 执行SQL语句\n",
    "cursor.execute(sql)\n",
    "# 获取所有记录列表\n",
    "results = cursor.fetchall()\n",
    "for row in results:\n",
    "    id_, name, gender, score = row\n",
    "    # 打印结果\n",
    "    print(\"id=%s,name=%s,gender=%s,score=%d\" % \\\n",
    "         (id_, name, gender, score))"
   ]
  },
  {
   "cell_type": "code",
   "execution_count": 100,
   "id": "74853bb8",
   "metadata": {},
   "outputs": [],
   "source": [
    "# SQL 删除语句\n",
    "sql = \"delete from student_score where score >= %d\" % (60)\n",
    "try:\n",
    "    # 执行SQL语句\n",
    "    cursor.execute(sql)\n",
    "    # 提交修改\n",
    "    conn.commit()\n",
    "except Exception as e:\n",
    "    # 发生错误时回滚\n",
    "    print(e)\n",
    "    conn.rollback()"
   ]
  },
  {
   "cell_type": "code",
   "execution_count": 101,
   "id": "0202f3b9",
   "metadata": {},
   "outputs": [
    {
     "name": "stdout",
     "output_type": "stream",
     "text": [
      "id=003,name=王五,gender=男,score=59\n"
     ]
    }
   ],
   "source": [
    "# SQL 查询语句\n",
    "sql = \"select * from student_score\"\n",
    "\n",
    "# 执行SQL语句\n",
    "cursor.execute(sql)\n",
    "# 获取所有记录列表\n",
    "results = cursor.fetchall()\n",
    "for row in results:\n",
    "    id_, name, gender, score = row\n",
    "    # 打印结果\n",
    "    print(\"id=%s,name=%s,gender=%s,score=%d\" % \\\n",
    "         (id_, name, gender, score))"
   ]
  },
  {
   "cell_type": "code",
   "execution_count": 102,
   "id": "b1b443aa",
   "metadata": {},
   "outputs": [],
   "source": [
    "# 关闭cursor\n",
    "cursor.close()\n",
    "# 关闭数据库连接\n",
    "conn.close()"
   ]
  }
 ],
 "metadata": {
  "kernelspec": {
   "display_name": "Python 3 (ipykernel)",
   "language": "python",
   "name": "python3"
  },
  "language_info": {
   "codemirror_mode": {
    "name": "ipython",
    "version": 3
   },
   "file_extension": ".py",
   "mimetype": "text/x-python",
   "name": "python",
   "nbconvert_exporter": "python",
   "pygments_lexer": "ipython3",
   "version": "3.10.4"
  }
 },
 "nbformat": 4,
 "nbformat_minor": 5
}
