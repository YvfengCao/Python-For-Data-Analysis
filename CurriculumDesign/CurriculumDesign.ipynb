{
 "cells": [
  {
   "attachments": {},
   "cell_type": "markdown",
   "id": "078dc0d0",
   "metadata": {},
   "source": [
    "Python与数据分析课程设计\n",
    "对全球疫情就病例和死亡情况进行数据分析\n",
    "2022年12月5日至2022年12月13日"
   ]
  },
  {
   "cell_type": "code",
   "execution_count": 52,
   "id": "d79673ee",
   "metadata": {},
   "outputs": [],
   "source": [
    "#导入函数库\n",
    "import numpy as np\n",
    "import pandas as pd\n",
    "import bs4\n",
    "import urllib\n",
    "import sqlite3\n",
    "import matplotlib.pyplot as plt"
   ]
  },
  {
   "attachments": {},
   "cell_type": "markdown",
   "id": "eae30952",
   "metadata": {},
   "source": [
    "Part1：\n",
    "获取数据并进行数据清洗，此处主要采取Pandas"
   ]
  },
  {
   "cell_type": "code",
   "execution_count": 53,
   "id": "3bf2f735",
   "metadata": {},
   "outputs": [
    {
     "data": {
      "text/html": [
       "<div>\n",
       "<style scoped>\n",
       "    .dataframe tbody tr th:only-of-type {\n",
       "        vertical-align: middle;\n",
       "    }\n",
       "\n",
       "    .dataframe tbody tr th {\n",
       "        vertical-align: top;\n",
       "    }\n",
       "\n",
       "    .dataframe thead th {\n",
       "        text-align: right;\n",
       "    }\n",
       "</style>\n",
       "<table border=\"1\" class=\"dataframe\">\n",
       "  <thead>\n",
       "    <tr style=\"text-align: right;\">\n",
       "      <th></th>\n",
       "      <th>Date_reported</th>\n",
       "      <th>Country_code</th>\n",
       "      <th>Country</th>\n",
       "      <th>WHO_region</th>\n",
       "      <th>New_cases</th>\n",
       "      <th>Cumulative_cases</th>\n",
       "      <th>New_deaths</th>\n",
       "      <th>Cumulative_deaths</th>\n",
       "    </tr>\n",
       "  </thead>\n",
       "  <tbody>\n",
       "    <tr>\n",
       "      <th>0</th>\n",
       "      <td>2020-01-03</td>\n",
       "      <td>AF</td>\n",
       "      <td>Afghanistan</td>\n",
       "      <td>EMRO</td>\n",
       "      <td>0</td>\n",
       "      <td>0</td>\n",
       "      <td>0</td>\n",
       "      <td>0</td>\n",
       "    </tr>\n",
       "    <tr>\n",
       "      <th>1</th>\n",
       "      <td>2020-01-04</td>\n",
       "      <td>AF</td>\n",
       "      <td>Afghanistan</td>\n",
       "      <td>EMRO</td>\n",
       "      <td>0</td>\n",
       "      <td>0</td>\n",
       "      <td>0</td>\n",
       "      <td>0</td>\n",
       "    </tr>\n",
       "    <tr>\n",
       "      <th>2</th>\n",
       "      <td>2020-01-05</td>\n",
       "      <td>AF</td>\n",
       "      <td>Afghanistan</td>\n",
       "      <td>EMRO</td>\n",
       "      <td>0</td>\n",
       "      <td>0</td>\n",
       "      <td>0</td>\n",
       "      <td>0</td>\n",
       "    </tr>\n",
       "    <tr>\n",
       "      <th>3</th>\n",
       "      <td>2020-01-06</td>\n",
       "      <td>AF</td>\n",
       "      <td>Afghanistan</td>\n",
       "      <td>EMRO</td>\n",
       "      <td>0</td>\n",
       "      <td>0</td>\n",
       "      <td>0</td>\n",
       "      <td>0</td>\n",
       "    </tr>\n",
       "    <tr>\n",
       "      <th>4</th>\n",
       "      <td>2020-01-07</td>\n",
       "      <td>AF</td>\n",
       "      <td>Afghanistan</td>\n",
       "      <td>EMRO</td>\n",
       "      <td>0</td>\n",
       "      <td>0</td>\n",
       "      <td>0</td>\n",
       "      <td>0</td>\n",
       "    </tr>\n",
       "    <tr>\n",
       "      <th>...</th>\n",
       "      <td>...</td>\n",
       "      <td>...</td>\n",
       "      <td>...</td>\n",
       "      <td>...</td>\n",
       "      <td>...</td>\n",
       "      <td>...</td>\n",
       "      <td>...</td>\n",
       "      <td>...</td>\n",
       "    </tr>\n",
       "    <tr>\n",
       "      <th>254059</th>\n",
       "      <td>2022-12-05</td>\n",
       "      <td>ZW</td>\n",
       "      <td>Zimbabwe</td>\n",
       "      <td>AFRO</td>\n",
       "      <td>6</td>\n",
       "      <td>259356</td>\n",
       "      <td>0</td>\n",
       "      <td>5622</td>\n",
       "    </tr>\n",
       "    <tr>\n",
       "      <th>254060</th>\n",
       "      <td>2022-12-06</td>\n",
       "      <td>ZW</td>\n",
       "      <td>Zimbabwe</td>\n",
       "      <td>AFRO</td>\n",
       "      <td>0</td>\n",
       "      <td>259356</td>\n",
       "      <td>0</td>\n",
       "      <td>5622</td>\n",
       "    </tr>\n",
       "    <tr>\n",
       "      <th>254061</th>\n",
       "      <td>2022-12-07</td>\n",
       "      <td>ZW</td>\n",
       "      <td>Zimbabwe</td>\n",
       "      <td>AFRO</td>\n",
       "      <td>0</td>\n",
       "      <td>259356</td>\n",
       "      <td>0</td>\n",
       "      <td>5622</td>\n",
       "    </tr>\n",
       "    <tr>\n",
       "      <th>254062</th>\n",
       "      <td>2022-12-08</td>\n",
       "      <td>ZW</td>\n",
       "      <td>Zimbabwe</td>\n",
       "      <td>AFRO</td>\n",
       "      <td>0</td>\n",
       "      <td>259356</td>\n",
       "      <td>0</td>\n",
       "      <td>5622</td>\n",
       "    </tr>\n",
       "    <tr>\n",
       "      <th>254063</th>\n",
       "      <td>2022-12-09</td>\n",
       "      <td>ZW</td>\n",
       "      <td>Zimbabwe</td>\n",
       "      <td>AFRO</td>\n",
       "      <td>0</td>\n",
       "      <td>259356</td>\n",
       "      <td>0</td>\n",
       "      <td>5622</td>\n",
       "    </tr>\n",
       "  </tbody>\n",
       "</table>\n",
       "<p>254064 rows × 8 columns</p>\n",
       "</div>"
      ],
      "text/plain": [
       "       Date_reported Country_code      Country WHO_region  New_cases  \\\n",
       "0         2020-01-03           AF  Afghanistan       EMRO          0   \n",
       "1         2020-01-04           AF  Afghanistan       EMRO          0   \n",
       "2         2020-01-05           AF  Afghanistan       EMRO          0   \n",
       "3         2020-01-06           AF  Afghanistan       EMRO          0   \n",
       "4         2020-01-07           AF  Afghanistan       EMRO          0   \n",
       "...              ...          ...          ...        ...        ...   \n",
       "254059    2022-12-05           ZW     Zimbabwe       AFRO          6   \n",
       "254060    2022-12-06           ZW     Zimbabwe       AFRO          0   \n",
       "254061    2022-12-07           ZW     Zimbabwe       AFRO          0   \n",
       "254062    2022-12-08           ZW     Zimbabwe       AFRO          0   \n",
       "254063    2022-12-09           ZW     Zimbabwe       AFRO          0   \n",
       "\n",
       "        Cumulative_cases  New_deaths  Cumulative_deaths  \n",
       "0                      0           0                  0  \n",
       "1                      0           0                  0  \n",
       "2                      0           0                  0  \n",
       "3                      0           0                  0  \n",
       "4                      0           0                  0  \n",
       "...                  ...         ...                ...  \n",
       "254059            259356           0               5622  \n",
       "254060            259356           0               5622  \n",
       "254061            259356           0               5622  \n",
       "254062            259356           0               5622  \n",
       "254063            259356           0               5622  \n",
       "\n",
       "[254064 rows x 8 columns]"
      ]
     },
     "execution_count": 53,
     "metadata": {},
     "output_type": "execute_result"
    }
   ],
   "source": [
    "#读取数据\n",
    "#搜索引擎：bing国际版\n",
    "#来源：WHO在官网上公开的疫情数据\n",
    "data = pd.read_csv(\"https://covid19.who.int/WHO-COVID-19-global-data.csv\")#WHO\n",
    "data.to_csv(\"E:\\\\assignment\\\\python\\\\CurriculumDesign\\\\WHO-COVID-19-global-data.csv\")\n",
    "#data = pd.read_csv(\"E:\\\\assignment\\\\python\\\\CurriculumDesign\\\\WHO-COVID-19-global-data.csv\")\n",
    "#返回WHO数据\n",
    "data"
   ]
  },
  {
   "cell_type": "code",
   "execution_count": 54,
   "id": "ef183093",
   "metadata": {},
   "outputs": [
    {
     "data": {
      "text/html": [
       "<div>\n",
       "<style scoped>\n",
       "    .dataframe tbody tr th:only-of-type {\n",
       "        vertical-align: middle;\n",
       "    }\n",
       "\n",
       "    .dataframe tbody tr th {\n",
       "        vertical-align: top;\n",
       "    }\n",
       "\n",
       "    .dataframe thead th {\n",
       "        text-align: right;\n",
       "    }\n",
       "</style>\n",
       "<table border=\"1\" class=\"dataframe\">\n",
       "  <thead>\n",
       "    <tr style=\"text-align: right;\">\n",
       "      <th></th>\n",
       "      <th>Date_reported</th>\n",
       "      <th>Country</th>\n",
       "      <th>New_cases</th>\n",
       "      <th>New_deaths</th>\n",
       "    </tr>\n",
       "  </thead>\n",
       "  <tbody>\n",
       "    <tr>\n",
       "      <th>0</th>\n",
       "      <td>2020-01-03</td>\n",
       "      <td>Afghanistan</td>\n",
       "      <td>0</td>\n",
       "      <td>0</td>\n",
       "    </tr>\n",
       "    <tr>\n",
       "      <th>1</th>\n",
       "      <td>2020-01-04</td>\n",
       "      <td>Afghanistan</td>\n",
       "      <td>0</td>\n",
       "      <td>0</td>\n",
       "    </tr>\n",
       "    <tr>\n",
       "      <th>2</th>\n",
       "      <td>2020-01-05</td>\n",
       "      <td>Afghanistan</td>\n",
       "      <td>0</td>\n",
       "      <td>0</td>\n",
       "    </tr>\n",
       "    <tr>\n",
       "      <th>3</th>\n",
       "      <td>2020-01-06</td>\n",
       "      <td>Afghanistan</td>\n",
       "      <td>0</td>\n",
       "      <td>0</td>\n",
       "    </tr>\n",
       "    <tr>\n",
       "      <th>4</th>\n",
       "      <td>2020-01-07</td>\n",
       "      <td>Afghanistan</td>\n",
       "      <td>0</td>\n",
       "      <td>0</td>\n",
       "    </tr>\n",
       "    <tr>\n",
       "      <th>...</th>\n",
       "      <td>...</td>\n",
       "      <td>...</td>\n",
       "      <td>...</td>\n",
       "      <td>...</td>\n",
       "    </tr>\n",
       "    <tr>\n",
       "      <th>254059</th>\n",
       "      <td>2022-12-05</td>\n",
       "      <td>Zimbabwe</td>\n",
       "      <td>6</td>\n",
       "      <td>0</td>\n",
       "    </tr>\n",
       "    <tr>\n",
       "      <th>254060</th>\n",
       "      <td>2022-12-06</td>\n",
       "      <td>Zimbabwe</td>\n",
       "      <td>0</td>\n",
       "      <td>0</td>\n",
       "    </tr>\n",
       "    <tr>\n",
       "      <th>254061</th>\n",
       "      <td>2022-12-07</td>\n",
       "      <td>Zimbabwe</td>\n",
       "      <td>0</td>\n",
       "      <td>0</td>\n",
       "    </tr>\n",
       "    <tr>\n",
       "      <th>254062</th>\n",
       "      <td>2022-12-08</td>\n",
       "      <td>Zimbabwe</td>\n",
       "      <td>0</td>\n",
       "      <td>0</td>\n",
       "    </tr>\n",
       "    <tr>\n",
       "      <th>254063</th>\n",
       "      <td>2022-12-09</td>\n",
       "      <td>Zimbabwe</td>\n",
       "      <td>0</td>\n",
       "      <td>0</td>\n",
       "    </tr>\n",
       "  </tbody>\n",
       "</table>\n",
       "<p>254064 rows × 4 columns</p>\n",
       "</div>"
      ],
      "text/plain": [
       "       Date_reported      Country  New_cases  New_deaths\n",
       "0         2020-01-03  Afghanistan          0           0\n",
       "1         2020-01-04  Afghanistan          0           0\n",
       "2         2020-01-05  Afghanistan          0           0\n",
       "3         2020-01-06  Afghanistan          0           0\n",
       "4         2020-01-07  Afghanistan          0           0\n",
       "...              ...          ...        ...         ...\n",
       "254059    2022-12-05     Zimbabwe          6           0\n",
       "254060    2022-12-06     Zimbabwe          0           0\n",
       "254061    2022-12-07     Zimbabwe          0           0\n",
       "254062    2022-12-08     Zimbabwe          0           0\n",
       "254063    2022-12-09     Zimbabwe          0           0\n",
       "\n",
       "[254064 rows x 4 columns]"
      ]
     },
     "execution_count": 54,
     "metadata": {},
     "output_type": "execute_result"
    }
   ],
   "source": [
    "#数据清洗\n",
    "#保留四列\n",
    "data = data.loc[:,[\"Date_reported\",\"Country\",\"New_cases\",\"New_deaths\"]]\n",
    "#将新增病例和新增死亡转换为int数据类型\n",
    "data.New_cases = data.New_cases.astype('Int32')\n",
    "data.New_deaths = data.New_deaths.astype('Int32')\n",
    "#调整日期格式为2020-01-15样式                                \n",
    "data['Date_reported'] = pd.to_datetime(data.Date_reported)\n",
    "#去重\n",
    "data.drop_duplicates(subset=[\"Date_reported\",\"Country\"],keep='first')\n",
    "#新增确诊/死亡数量负值变0\n",
    "data[\"New_cases\"][data[\"New_cases\"] < 0] = 0\n",
    "data[\"New_deaths\"][data[\"New_deaths\"] < 0] = 0\n",
    "#保存本地\n",
    "data.to_csv(\"E:\\\\assignment\\\\python\\\\CurriculumDesign\\\\data_1.csv\")\n",
    "#查看数据\n",
    "data"
   ]
  },
  {
   "cell_type": "code",
   "execution_count": 55,
   "id": "d22d4fa5",
   "metadata": {},
   "outputs": [
    {
     "name": "stdout",
     "output_type": "stream",
     "text": [
      "<class 'pandas.core.frame.DataFrame'>\n",
      "RangeIndex: 254064 entries, 0 to 254063\n",
      "Data columns (total 4 columns):\n",
      " #   Column         Non-Null Count   Dtype         \n",
      "---  ------         --------------   -----         \n",
      " 0   Date_reported  254064 non-null  datetime64[ns]\n",
      " 1   Country        254064 non-null  object        \n",
      " 2   New_cases      254064 non-null  Int32         \n",
      " 3   New_deaths     254064 non-null  Int32         \n",
      "dtypes: Int32(2), datetime64[ns](1), object(1)\n",
      "memory usage: 6.3+ MB\n"
     ]
    }
   ],
   "source": [
    "# 查看数据类型\n",
    "data.info()"
   ]
  },
  {
   "attachments": {},
   "cell_type": "markdown",
   "id": "56c83820",
   "metadata": {},
   "source": [
    "Part2：\n",
    "数据库处理，此处主要采取SQL配合Pandas"
   ]
  },
  {
   "cell_type": "code",
   "execution_count": 56,
   "id": "1a8a3efb",
   "metadata": {},
   "outputs": [],
   "source": [
    "# 连接到SQLite数据库\n",
    "# 数据库文件是covid19.db\n",
    "conn = sqlite3.connect('covid19.db')\n",
    "# 创建一个Cursor游标\n",
    "cursor = conn.cursor()"
   ]
  },
  {
   "cell_type": "code",
   "execution_count": 57,
   "id": "f3464a77",
   "metadata": {},
   "outputs": [
    {
     "data": {
      "text/plain": [
       "<sqlite3.Cursor at 0x1de3d4c6f40>"
      ]
     },
     "execution_count": 57,
     "metadata": {},
     "output_type": "execute_result"
    }
   ],
   "source": [
    "#sql语句构建表（covid19）（日期和地区做联合主键）\n",
    "create_sql = \"CREATE TABLE IF NOT EXISTS covid19 (Date_reported TIME,Country VARCHAR(10),New_cases INT,New_deaths INT,PRIMARY KEY(Date_reported, Country));\"\n",
    "cursor.execute(create_sql)\n",
    "#data.to_sql('covid19', conn, if_exists='append', index=False)"
   ]
  },
  {
   "cell_type": "markdown",
   "id": "b0a8da66",
   "metadata": {},
   "source": [
    "完成数据的增删查改"
   ]
  },
  {
   "cell_type": "code",
   "execution_count": 58,
   "id": "0b997cb7",
   "metadata": {},
   "outputs": [
    {
     "name": "stdout",
     "output_type": "stream",
     "text": [
      "1\n",
      "数据增加成功\n"
     ]
    }
   ],
   "source": [
    "#增\n",
    "try:\n",
    "    sql_add = \"INSERT INTO covid19(Date_reported, Country, New_cases, New_deaths) values('2022-12-14','China','21681','237')\"\n",
    "    cursor.execute(sql_add)\n",
    "    # 打印受影响的行数\n",
    "    print(cursor.rowcount)\n",
    "    #提交事务\n",
    "    conn.commit()\n",
    "    print('数据增加成功')\n",
    "except sqlite3.IntegrityError:\n",
    "    sql_add = \"REPLACE INTO covid19(Date_reported, Country, New_cases, New_deaths) values('2022-12-14','China','21681','237')\"\n",
    "    cursor.execute(sql_add)\n",
    "    # 打印受影响的行数\n",
    "    print(cursor.rowcount)\n",
    "    #提交事务\n",
    "    conn.commit()\n",
    "    print('数据增加成功')\n",
    "except Exception:\n",
    "    print('数据增加失败')"
   ]
  },
  {
   "cell_type": "code",
   "execution_count": 59,
   "id": "37b38e32",
   "metadata": {},
   "outputs": [
    {
     "name": "stdout",
     "output_type": "stream",
     "text": [
      "数据更改成功\n"
     ]
    }
   ],
   "source": [
    "#改\n",
    "try:\n",
    "    sql_change = \"UPDATE covid19 set New_cases=?, New_deaths=? where Date_reported=? and Country=?\"\n",
    "    change_data = ('21680','237','2022-12-14','China')\n",
    "    cursor.execute(sql_change, change_data)\n",
    "    #提交事务\n",
    "    conn.commit()\n",
    "    print('数据更改成功')\n",
    "except Exception:\n",
    "    print('数据更改失败')"
   ]
  },
  {
   "cell_type": "code",
   "execution_count": 60,
   "id": "aedb3533",
   "metadata": {},
   "outputs": [
    {
     "name": "stdout",
     "output_type": "stream",
     "text": [
      "[('2022-12-14', 'China', 21680, 237)]\n"
     ]
    }
   ],
   "source": [
    "#查\n",
    "try:\n",
    "    sql_select = 'select * from covid19 where Date_reported=? and Country=?'\n",
    "    select_value = ('2022-12-14','China')\n",
    "    cursor.execute(sql_select, select_value)\n",
    "    #提交事务\n",
    "    conn.commit()\n",
    "    print(cursor.fetchall())\n",
    "except Exception:\n",
    "    print('数据查询失败')"
   ]
  },
  {
   "cell_type": "code",
   "execution_count": 61,
   "id": "51000f08",
   "metadata": {},
   "outputs": [
    {
     "name": "stdout",
     "output_type": "stream",
     "text": [
      "数据删除成功\n"
     ]
    }
   ],
   "source": [
    "#删\n",
    "try:\n",
    "    delete_select = \"delete from covid19 where Date_reported=? and Country=?\"\n",
    "    select_value = ('2022-12-14','China')\n",
    "    cursor.execute(delete_select, select_value)\n",
    "    #提交事务\n",
    "    conn.commit()\n",
    "    print('数据删除成功')\n",
    "except Exception:\n",
    "    print('数据删除失败')"
   ]
  },
  {
   "cell_type": "code",
   "execution_count": 62,
   "id": "f4d26797",
   "metadata": {},
   "outputs": [],
   "source": [
    "# 关闭Cursor\n",
    "cursor.close()\n",
    "# 提交事务\n",
    "conn.commit()\n",
    "# 关闭Connection\n",
    "conn.close()"
   ]
  },
  {
   "attachments": {},
   "cell_type": "markdown",
   "id": "952de1c5",
   "metadata": {},
   "source": [
    "数据变换(Pandas)"
   ]
  },
  {
   "cell_type": "code",
   "execution_count": 63,
   "id": "0269df6a",
   "metadata": {},
   "outputs": [],
   "source": [
    "#病例死亡数量求和\n",
    "data_cases_sum = data.groupby(by='Country').agg({'New_cases':'sum'})\n",
    "data_deaths_sum = data.groupby(by='Country').agg({'New_deaths':'sum'})\n",
    "#变更列名\n",
    "data_cases_sum.columns = ['cases_sum']\n",
    "data_deaths_sum.columns = ['deaths_sum']\n",
    "#求单日新增最大值\n",
    "data_cases_max = data.iloc[data.groupby(['Country']).apply(lambda x: x['New_cases'].idxmax())]\n",
    "#求单日死亡最大值\n",
    "data_deaths_max = data.iloc[data.groupby(['Country']).apply(lambda x: x['New_deaths'].idxmax())]\n",
    "#数据清洗\n",
    "data_cases_max.columns = [\"Date_cases_max\",\"Country\",\"New_cases\",\"New_deaths\"]\n",
    "data_deaths_max.columns = [\"Date_deaths_max\",\"Country\",\"New_cases\",\"New_deaths\"]\n",
    "data_cases_max = data_cases_max.loc[:,[\"Country\",\"Date_cases_max\",\"New_cases\"]]\n",
    "data_deaths_max = data_deaths_max.loc[:,[\"Country\",\"Date_deaths_max\",\"New_deaths\"]]\n",
    "#设置index为country\n",
    "data_cases_max = data_cases_max.set_index('Country')\n",
    "data_deaths_max = data_deaths_max.set_index('Country')\n",
    "#降序排列\n",
    "data_cases_sum.sort_values(by='cases_sum', inplace=True,ascending=False)\n",
    "data_deaths_sum.sort_values(by='deaths_sum', inplace=True,ascending=False)\n",
    "data_cases_max.sort_values(by='New_cases', inplace=True,ascending=False)\n",
    "data_deaths_max.sort_values(by='New_deaths', inplace=True,ascending=False)"
   ]
  },
  {
   "cell_type": "code",
   "execution_count": 64,
   "id": "e2dc7312",
   "metadata": {},
   "outputs": [
    {
     "data": {
      "text/html": [
       "<div>\n",
       "<style scoped>\n",
       "    .dataframe tbody tr th:only-of-type {\n",
       "        vertical-align: middle;\n",
       "    }\n",
       "\n",
       "    .dataframe tbody tr th {\n",
       "        vertical-align: top;\n",
       "    }\n",
       "\n",
       "    .dataframe thead th {\n",
       "        text-align: right;\n",
       "    }\n",
       "</style>\n",
       "<table border=\"1\" class=\"dataframe\">\n",
       "  <thead>\n",
       "    <tr style=\"text-align: right;\">\n",
       "      <th></th>\n",
       "      <th>Date_cases_max</th>\n",
       "      <th>New_cases</th>\n",
       "      <th>Date_deaths_max</th>\n",
       "      <th>New_deaths</th>\n",
       "      <th>cases_sum</th>\n",
       "      <th>deaths_sum</th>\n",
       "    </tr>\n",
       "    <tr>\n",
       "      <th>Country</th>\n",
       "      <th></th>\n",
       "      <th></th>\n",
       "      <th></th>\n",
       "      <th></th>\n",
       "      <th></th>\n",
       "      <th></th>\n",
       "    </tr>\n",
       "  </thead>\n",
       "  <tbody>\n",
       "    <tr>\n",
       "      <th>United States of America</th>\n",
       "      <td>2022-01-12</td>\n",
       "      <td>1265520</td>\n",
       "      <td>2021-02-14</td>\n",
       "      <td>5061</td>\n",
       "      <td>98080701</td>\n",
       "      <td>1077016</td>\n",
       "    </tr>\n",
       "    <tr>\n",
       "      <th>Republic of Korea</th>\n",
       "      <td>2022-03-17</td>\n",
       "      <td>621328</td>\n",
       "      <td>2022-03-24</td>\n",
       "      <td>470</td>\n",
       "      <td>27611555</td>\n",
       "      <td>30975</td>\n",
       "    </tr>\n",
       "    <tr>\n",
       "      <th>France</th>\n",
       "      <td>2022-01-26</td>\n",
       "      <td>500563</td>\n",
       "      <td>2020-04-04</td>\n",
       "      <td>2003</td>\n",
       "      <td>37252086</td>\n",
       "      <td>155936</td>\n",
       "    </tr>\n",
       "    <tr>\n",
       "      <th>Viet Nam</th>\n",
       "      <td>2022-03-13</td>\n",
       "      <td>454212</td>\n",
       "      <td>2021-09-02</td>\n",
       "      <td>804</td>\n",
       "      <td>11519011</td>\n",
       "      <td>43213</td>\n",
       "    </tr>\n",
       "    <tr>\n",
       "      <th>India</th>\n",
       "      <td>2021-05-07</td>\n",
       "      <td>414188</td>\n",
       "      <td>2021-06-10</td>\n",
       "      <td>6148</td>\n",
       "      <td>44675193</td>\n",
       "      <td>530653</td>\n",
       "    </tr>\n",
       "    <tr>\n",
       "      <th>...</th>\n",
       "      <td>...</td>\n",
       "      <td>...</td>\n",
       "      <td>...</td>\n",
       "      <td>...</td>\n",
       "      <td>...</td>\n",
       "      <td>...</td>\n",
       "    </tr>\n",
       "    <tr>\n",
       "      <th>Holy See</th>\n",
       "      <td>2020-10-13</td>\n",
       "      <td>7</td>\n",
       "      <td>2020-01-03</td>\n",
       "      <td>0</td>\n",
       "      <td>26</td>\n",
       "      <td>0</td>\n",
       "    </tr>\n",
       "    <tr>\n",
       "      <th>Pitcairn Islands</th>\n",
       "      <td>2022-07-20</td>\n",
       "      <td>4</td>\n",
       "      <td>2020-01-03</td>\n",
       "      <td>0</td>\n",
       "      <td>4</td>\n",
       "      <td>0</td>\n",
       "    </tr>\n",
       "    <tr>\n",
       "      <th>Tokelau</th>\n",
       "      <td>2020-01-03</td>\n",
       "      <td>0</td>\n",
       "      <td>2020-01-03</td>\n",
       "      <td>0</td>\n",
       "      <td>0</td>\n",
       "      <td>0</td>\n",
       "    </tr>\n",
       "    <tr>\n",
       "      <th>Democratic People's Republic of Korea</th>\n",
       "      <td>2020-01-03</td>\n",
       "      <td>0</td>\n",
       "      <td>2020-01-03</td>\n",
       "      <td>0</td>\n",
       "      <td>0</td>\n",
       "      <td>0</td>\n",
       "    </tr>\n",
       "    <tr>\n",
       "      <th>Turkmenistan</th>\n",
       "      <td>2020-01-03</td>\n",
       "      <td>0</td>\n",
       "      <td>2020-01-03</td>\n",
       "      <td>0</td>\n",
       "      <td>0</td>\n",
       "      <td>0</td>\n",
       "    </tr>\n",
       "  </tbody>\n",
       "</table>\n",
       "<p>237 rows × 6 columns</p>\n",
       "</div>"
      ],
      "text/plain": [
       "                                      Date_cases_max  New_cases  \\\n",
       "Country                                                           \n",
       "United States of America                  2022-01-12    1265520   \n",
       "Republic of Korea                         2022-03-17     621328   \n",
       "France                                    2022-01-26     500563   \n",
       "Viet Nam                                  2022-03-13     454212   \n",
       "India                                     2021-05-07     414188   \n",
       "...                                              ...        ...   \n",
       "Holy See                                  2020-10-13          7   \n",
       "Pitcairn Islands                          2022-07-20          4   \n",
       "Tokelau                                   2020-01-03          0   \n",
       "Democratic People's Republic of Korea     2020-01-03          0   \n",
       "Turkmenistan                              2020-01-03          0   \n",
       "\n",
       "                                      Date_deaths_max  New_deaths  cases_sum  \\\n",
       "Country                                                                        \n",
       "United States of America                   2021-02-14        5061   98080701   \n",
       "Republic of Korea                          2022-03-24         470   27611555   \n",
       "France                                     2020-04-04        2003   37252086   \n",
       "Viet Nam                                   2021-09-02         804   11519011   \n",
       "India                                      2021-06-10        6148   44675193   \n",
       "...                                               ...         ...        ...   \n",
       "Holy See                                   2020-01-03           0         26   \n",
       "Pitcairn Islands                           2020-01-03           0          4   \n",
       "Tokelau                                    2020-01-03           0          0   \n",
       "Democratic People's Republic of Korea      2020-01-03           0          0   \n",
       "Turkmenistan                               2020-01-03           0          0   \n",
       "\n",
       "                                       deaths_sum  \n",
       "Country                                            \n",
       "United States of America                  1077016  \n",
       "Republic of Korea                           30975  \n",
       "France                                     155936  \n",
       "Viet Nam                                    43213  \n",
       "India                                      530653  \n",
       "...                                           ...  \n",
       "Holy See                                        0  \n",
       "Pitcairn Islands                                0  \n",
       "Tokelau                                         0  \n",
       "Democratic People's Republic of Korea           0  \n",
       "Turkmenistan                                    0  \n",
       "\n",
       "[237 rows x 6 columns]"
      ]
     },
     "execution_count": 64,
     "metadata": {},
     "output_type": "execute_result"
    }
   ],
   "source": [
    "#拼接为一个DataFrame\n",
    "data_summary = data_cases_max.join(data_deaths_max)\n",
    "data_summary = data_summary.join(data_cases_sum)\n",
    "data_summary = data_summary.join(data_deaths_sum)\n",
    "data_summary"
   ]
  },
  {
   "cell_type": "code",
   "execution_count": 65,
   "id": "59d2cc14",
   "metadata": {},
   "outputs": [
    {
     "data": {
      "text/html": [
       "<div>\n",
       "<style scoped>\n",
       "    .dataframe tbody tr th:only-of-type {\n",
       "        vertical-align: middle;\n",
       "    }\n",
       "\n",
       "    .dataframe tbody tr th {\n",
       "        vertical-align: top;\n",
       "    }\n",
       "\n",
       "    .dataframe thead th {\n",
       "        text-align: right;\n",
       "    }\n",
       "</style>\n",
       "<table border=\"1\" class=\"dataframe\">\n",
       "  <thead>\n",
       "    <tr style=\"text-align: right;\">\n",
       "      <th></th>\n",
       "      <th>cases_sum</th>\n",
       "    </tr>\n",
       "    <tr>\n",
       "      <th>Country</th>\n",
       "      <th></th>\n",
       "    </tr>\n",
       "  </thead>\n",
       "  <tbody>\n",
       "    <tr>\n",
       "      <th>United States of America</th>\n",
       "      <td>98080701</td>\n",
       "    </tr>\n",
       "    <tr>\n",
       "      <th>India</th>\n",
       "      <td>44675193</td>\n",
       "    </tr>\n",
       "    <tr>\n",
       "      <th>France</th>\n",
       "      <td>37252086</td>\n",
       "    </tr>\n",
       "    <tr>\n",
       "      <th>Germany</th>\n",
       "      <td>36726061</td>\n",
       "    </tr>\n",
       "    <tr>\n",
       "      <th>Brazil</th>\n",
       "      <td>35498354</td>\n",
       "    </tr>\n",
       "  </tbody>\n",
       "</table>\n",
       "</div>"
      ],
      "text/plain": [
       "                          cases_sum\n",
       "Country                            \n",
       "United States of America   98080701\n",
       "India                      44675193\n",
       "France                     37252086\n",
       "Germany                    36726061\n",
       "Brazil                     35498354"
      ]
     },
     "execution_count": 65,
     "metadata": {},
     "output_type": "execute_result"
    }
   ],
   "source": [
    "cases_sum_top = data_cases_sum.head(5)\n",
    "cases_sum_top"
   ]
  },
  {
   "cell_type": "code",
   "execution_count": 66,
   "id": "d1516111",
   "metadata": {},
   "outputs": [
    {
     "data": {
      "text/html": [
       "<div>\n",
       "<style scoped>\n",
       "    .dataframe tbody tr th:only-of-type {\n",
       "        vertical-align: middle;\n",
       "    }\n",
       "\n",
       "    .dataframe tbody tr th {\n",
       "        vertical-align: top;\n",
       "    }\n",
       "\n",
       "    .dataframe thead th {\n",
       "        text-align: right;\n",
       "    }\n",
       "</style>\n",
       "<table border=\"1\" class=\"dataframe\">\n",
       "  <thead>\n",
       "    <tr style=\"text-align: right;\">\n",
       "      <th></th>\n",
       "      <th>deaths_sum</th>\n",
       "    </tr>\n",
       "    <tr>\n",
       "      <th>Country</th>\n",
       "      <th></th>\n",
       "    </tr>\n",
       "  </thead>\n",
       "  <tbody>\n",
       "    <tr>\n",
       "      <th>United States of America</th>\n",
       "      <td>1077016</td>\n",
       "    </tr>\n",
       "    <tr>\n",
       "      <th>Brazil</th>\n",
       "      <td>690577</td>\n",
       "    </tr>\n",
       "    <tr>\n",
       "      <th>India</th>\n",
       "      <td>530653</td>\n",
       "    </tr>\n",
       "    <tr>\n",
       "      <th>Russian Federation</th>\n",
       "      <td>392506</td>\n",
       "    </tr>\n",
       "    <tr>\n",
       "      <th>Mexico</th>\n",
       "      <td>330633</td>\n",
       "    </tr>\n",
       "  </tbody>\n",
       "</table>\n",
       "</div>"
      ],
      "text/plain": [
       "                          deaths_sum\n",
       "Country                             \n",
       "United States of America     1077016\n",
       "Brazil                        690577\n",
       "India                         530653\n",
       "Russian Federation            392506\n",
       "Mexico                        330633"
      ]
     },
     "execution_count": 66,
     "metadata": {},
     "output_type": "execute_result"
    }
   ],
   "source": [
    "deaths_sum_top = data_deaths_sum.head(5)\n",
    "deaths_sum_top"
   ]
  },
  {
   "cell_type": "code",
   "execution_count": 67,
   "id": "819e986e",
   "metadata": {},
   "outputs": [
    {
     "data": {
      "text/html": [
       "<div>\n",
       "<style scoped>\n",
       "    .dataframe tbody tr th:only-of-type {\n",
       "        vertical-align: middle;\n",
       "    }\n",
       "\n",
       "    .dataframe tbody tr th {\n",
       "        vertical-align: top;\n",
       "    }\n",
       "\n",
       "    .dataframe thead th {\n",
       "        text-align: right;\n",
       "    }\n",
       "</style>\n",
       "<table border=\"1\" class=\"dataframe\">\n",
       "  <thead>\n",
       "    <tr style=\"text-align: right;\">\n",
       "      <th></th>\n",
       "      <th>Date_cases_max</th>\n",
       "      <th>New_cases</th>\n",
       "    </tr>\n",
       "    <tr>\n",
       "      <th>Country</th>\n",
       "      <th></th>\n",
       "      <th></th>\n",
       "    </tr>\n",
       "  </thead>\n",
       "  <tbody>\n",
       "    <tr>\n",
       "      <th>United States of America</th>\n",
       "      <td>2022-01-12</td>\n",
       "      <td>1265520</td>\n",
       "    </tr>\n",
       "    <tr>\n",
       "      <th>Republic of Korea</th>\n",
       "      <td>2022-03-17</td>\n",
       "      <td>621328</td>\n",
       "    </tr>\n",
       "    <tr>\n",
       "      <th>France</th>\n",
       "      <td>2022-01-26</td>\n",
       "      <td>500563</td>\n",
       "    </tr>\n",
       "    <tr>\n",
       "      <th>Viet Nam</th>\n",
       "      <td>2022-03-13</td>\n",
       "      <td>454212</td>\n",
       "    </tr>\n",
       "    <tr>\n",
       "      <th>India</th>\n",
       "      <td>2021-05-07</td>\n",
       "      <td>414188</td>\n",
       "    </tr>\n",
       "  </tbody>\n",
       "</table>\n",
       "</div>"
      ],
      "text/plain": [
       "                         Date_cases_max  New_cases\n",
       "Country                                           \n",
       "United States of America     2022-01-12    1265520\n",
       "Republic of Korea            2022-03-17     621328\n",
       "France                       2022-01-26     500563\n",
       "Viet Nam                     2022-03-13     454212\n",
       "India                        2021-05-07     414188"
      ]
     },
     "execution_count": 67,
     "metadata": {},
     "output_type": "execute_result"
    }
   ],
   "source": [
    "data_cases_max.head(5)"
   ]
  },
  {
   "cell_type": "code",
   "execution_count": 68,
   "id": "9d60a1b5",
   "metadata": {},
   "outputs": [
    {
     "data": {
      "text/html": [
       "<div>\n",
       "<style scoped>\n",
       "    .dataframe tbody tr th:only-of-type {\n",
       "        vertical-align: middle;\n",
       "    }\n",
       "\n",
       "    .dataframe tbody tr th {\n",
       "        vertical-align: top;\n",
       "    }\n",
       "\n",
       "    .dataframe thead th {\n",
       "        text-align: right;\n",
       "    }\n",
       "</style>\n",
       "<table border=\"1\" class=\"dataframe\">\n",
       "  <thead>\n",
       "    <tr style=\"text-align: right;\">\n",
       "      <th></th>\n",
       "      <th>Date_deaths_max</th>\n",
       "      <th>New_deaths</th>\n",
       "    </tr>\n",
       "    <tr>\n",
       "      <th>Country</th>\n",
       "      <th></th>\n",
       "      <th></th>\n",
       "    </tr>\n",
       "  </thead>\n",
       "  <tbody>\n",
       "    <tr>\n",
       "      <th>Chile</th>\n",
       "      <td>2022-03-22</td>\n",
       "      <td>11447</td>\n",
       "    </tr>\n",
       "    <tr>\n",
       "      <th>Ecuador</th>\n",
       "      <td>2021-07-21</td>\n",
       "      <td>8786</td>\n",
       "    </tr>\n",
       "    <tr>\n",
       "      <th>India</th>\n",
       "      <td>2021-06-10</td>\n",
       "      <td>6148</td>\n",
       "    </tr>\n",
       "    <tr>\n",
       "      <th>United States of America</th>\n",
       "      <td>2021-02-14</td>\n",
       "      <td>5061</td>\n",
       "    </tr>\n",
       "    <tr>\n",
       "      <th>Brazil</th>\n",
       "      <td>2021-04-10</td>\n",
       "      <td>4249</td>\n",
       "    </tr>\n",
       "  </tbody>\n",
       "</table>\n",
       "</div>"
      ],
      "text/plain": [
       "                         Date_deaths_max  New_deaths\n",
       "Country                                             \n",
       "Chile                         2022-03-22       11447\n",
       "Ecuador                       2021-07-21        8786\n",
       "India                         2021-06-10        6148\n",
       "United States of America      2021-02-14        5061\n",
       "Brazil                        2021-04-10        4249"
      ]
     },
     "execution_count": 68,
     "metadata": {},
     "output_type": "execute_result"
    }
   ],
   "source": [
    "data_deaths_max.head(5)"
   ]
  },
  {
   "attachments": {},
   "cell_type": "markdown",
   "id": "0ebf8825",
   "metadata": {},
   "source": [
    "Part3:\n",
    "数据可视化\n",
    "主要采取matplotlib"
   ]
  },
  {
   "cell_type": "code",
   "execution_count": 69,
   "id": "78a6c41b",
   "metadata": {},
   "outputs": [],
   "source": [
    "# 确诊数量前五：\n",
    "# United States of America \n",
    "# India\n",
    "# France\n",
    "# Germany\n",
    "# Brazil\n",
    "# 死亡数量前五：\n",
    "# United States of America \n",
    "# Brazil\n",
    "# India\n",
    "# Russian Federation\n",
    "# Mexico"
   ]
  },
  {
   "cell_type": "code",
   "execution_count": 70,
   "id": "dd865ef3",
   "metadata": {},
   "outputs": [],
   "source": [
    "#变更索引为Country\n",
    "data = pd.read_csv(\"https://covid19.who.int/WHO-COVID-19-global-data.csv\")\n",
    "#保留八列并设置索引为Country\n",
    "data = data.loc[:,[\"Date_reported\",\"Country\",\"New_cases\",\"Cumulative_cases\",\"New_deaths\",\"Cumulative_deaths\"]].set_index('Country')\n",
    "#转换为int数据类型\n",
    "data.New_cases = data.New_cases.astype('Int32')\n",
    "data.Cumulative_cases = data.Cumulative_cases.astype('Int32')\n",
    "data.New_deaths = data.New_deaths.astype('Int32')\n",
    "data.Cumulative_deaths = data.Cumulative_deaths.astype('Int32')\n",
    "#病例/死亡前五各国数据\n",
    "America = (data.loc['United States of America',:]).reset_index(drop=False)\n",
    "India = (data.loc['India',:]).reset_index(drop=False)\n",
    "Brazil = (data.loc['Brazil',:]).reset_index(drop=False)\n",
    "France = (data.loc['France',:]).reset_index(drop=False)\n",
    "Germany = (data.loc['Germany',:]).reset_index(drop=False)\n",
    "Russian_Federation = (data.loc['Russian Federation',:]).reset_index(drop=False)\n",
    "Mexico = (data.loc['Mexico',:]).reset_index(drop=False)\n"
   ]
  },
  {
   "cell_type": "code",
   "execution_count": 71,
   "id": "012fe975",
   "metadata": {},
   "outputs": [
    {
     "data": {
      "text/plain": [
       "<function matplotlib.pyplot.show(close=None, block=None)>"
      ]
     },
     "execution_count": 71,
     "metadata": {},
     "output_type": "execute_result"
    },
    {
     "data": {
      "image/png": "[encoded data removed]",
      "text/plain": [
       "<Figure size 640x480 with 1 Axes>"
      ]
     },
     "metadata": {},
     "output_type": "display_data"
    }
   ],
   "source": [
    "# 确诊数量前五\n",
    "America_New_cases, Date_reported = America[\"New_cases\"], America[\"Date_reported\"]\n",
    "plt.plot(Date_reported, America_New_cases,\"-\", color = \"r\",linewidth = 1, label=\"America\")\n",
    "India_New_cases, Date_reported = India[\"New_cases\"], India[\"Date_reported\"]\n",
    "plt.plot(Date_reported, India_New_cases,\"-\", color = \"g\",linewidth = 1, label=\"India\")\n",
    "France_New_cases, Date_reported = France[\"New_cases\"], France[\"Date_reported\"]\n",
    "plt.plot(Date_reported, France_New_cases,\"-\", color = \"b\",linewidth = 1, label=\"France\")\n",
    "Germany_New_cases, Date_reported = Germany[\"New_cases\"], Germany[\"Date_reported\"]\n",
    "plt.plot(Date_reported, Germany_New_cases,\"-\", color = \"y\",linewidth = 1, label=\"Germany\")\n",
    "Brazil_New_cases, Date_reported = Brazil[\"New_cases\"], Brazil[\"Date_reported\"]\n",
    "plt.plot(Date_reported, Brazil_New_cases,\"-\", color = \"c\",linewidth = 1, label=\"Brazil\")\n",
    "plt.xlabel('Date')# 设置横轴标签\n",
    "plt.ylabel('New cases')# 设置纵轴标签\n",
    "plt.legend(loc=\"upper left\")# 添加图例\n",
    "plt.show"
   ]
  },
  {
   "cell_type": "code",
   "execution_count": 72,
   "id": "5343a741",
   "metadata": {},
   "outputs": [
    {
     "data": {
      "text/plain": [
       "<function matplotlib.pyplot.show(close=None, block=None)>"
      ]
     },
     "execution_count": 72,
     "metadata": {},
     "output_type": "execute_result"
    },
    {
     "data": {
      "image/png": "[encoded data removed]",
      "text/plain": [
       "<Figure size 640x480 with 1 Axes>"
      ]
     },
     "metadata": {},
     "output_type": "display_data"
    }
   ],
   "source": [
    "# 死亡数量前五\n",
    "America_New_deaths, Date_reported = America[\"New_deaths\"], America[\"Date_reported\"]\n",
    "plt.plot(Date_reported, America_New_deaths,\"-\", color = \"r\",linewidth = 1, label=\"America\")\n",
    "Brazil_New_deaths, Date_reported = Brazil[\"New_deaths\"], Brazil[\"Date_reported\"]\n",
    "plt.plot(Date_reported, Brazil_New_deaths,\"-\", color = \"c\",linewidth = 1, label=\"Brazil\")\n",
    "India_New_deaths, Date_reported = India[\"New_deaths\"], India[\"Date_reported\"]\n",
    "plt.plot(Date_reported, India_New_deaths,\"-\", color = \"g\",linewidth = 1, label=\"India\")\n",
    "Russian_Federation_New_deaths, Date_reported = Russian_Federation[\"New_deaths\"], Russian_Federation[\"Date_reported\"]\n",
    "plt.plot(Date_reported, Russian_Federation_New_deaths,\"-\", color = \"b\",linewidth = 1, label=\"France\")\n",
    "Mexico_New_deaths, Date_reported = Mexico[\"New_deaths\"], Mexico[\"Date_reported\"]\n",
    "plt.plot(Date_reported, Mexico_New_deaths,\"-\", color = \"y\",linewidth = 1, label=\"Germany\")\n",
    "plt.xlabel('Date')# 设置横轴标签\n",
    "plt.ylabel('New deaths')# 设置纵轴标签\n",
    "plt.legend(loc=\"upper left\")# 添加图例\n",
    "plt.show"
   ]
  },
  {
   "cell_type": "code",
   "execution_count": 73,
   "id": "516990cc",
   "metadata": {},
   "outputs": [
    {
     "data": {
      "text/plain": [
       "Text(0.5, 1.0, 'Cases Sum Top 5')"
      ]
     },
     "execution_count": 73,
     "metadata": {},
     "output_type": "execute_result"
    },
    {
     "data": {
      "image/png": "[encoded data removed]",
      "text/plain": [
       "<Figure size 640x480 with 1 Axes>"
      ]
     },
     "metadata": {},
     "output_type": "display_data"
    }
   ],
   "source": [
    "cases_sum_top = cases_sum_top.reset_index(drop=False)\n",
    "Country, Cases_sum = cases_sum_top['Country'],cases_sum_top['cases_sum']\n",
    "# 柱子的宽度\n",
    "width=0.35\n",
    "# 绘制柱状图 , 每根柱子的颜色为蓝色\n",
    "plt.bar(Country, Cases_sum, width, label=\"Cases Sum Top 5\", color=\"#87CEFA\")\n",
    "plt.title(\"Cases Sum Top 5\")# 添加标题"
   ]
  },
  {
   "cell_type": "code",
   "execution_count": 74,
   "id": "4ad922b7",
   "metadata": {},
   "outputs": [
    {
     "data": {
      "text/plain": [
       "Text(0.5, 1.0, 'Deaths Sum Top 5')"
      ]
     },
     "execution_count": 74,
     "metadata": {},
     "output_type": "execute_result"
    },
    {
     "data": {
      "image/png": "[encoded data removed]",
      "text/plain": [
       "<Figure size 640x480 with 1 Axes>"
      ]
     },
     "metadata": {},
     "output_type": "display_data"
    }
   ],
   "source": [
    "deaths_sum_top = deaths_sum_top.reset_index(drop=False)\n",
    "Country, Deaths_sum = deaths_sum_top['Country'],deaths_sum_top['deaths_sum']\n",
    "# 柱子的宽度\n",
    "width=0.35\n",
    "# 绘制柱状图 , 每根柱子的颜色为蓝色\n",
    "plt.bar(Country, Deaths_sum, width, label=\"Cases Sum Top 5\", color=\"#87CEFA\")\n",
    "plt.title(\"Deaths Sum Top 5\")# 添加标题"
   ]
  },
  {
   "cell_type": "code",
   "execution_count": 75,
   "id": "ddd90310",
   "metadata": {},
   "outputs": [
    {
     "data": {
      "text/html": [
       "<div>\n",
       "<style scoped>\n",
       "    .dataframe tbody tr th:only-of-type {\n",
       "        vertical-align: middle;\n",
       "    }\n",
       "\n",
       "    .dataframe tbody tr th {\n",
       "        vertical-align: top;\n",
       "    }\n",
       "\n",
       "    .dataframe thead th {\n",
       "        text-align: right;\n",
       "    }\n",
       "</style>\n",
       "<table border=\"1\" class=\"dataframe\">\n",
       "  <thead>\n",
       "    <tr style=\"text-align: right;\">\n",
       "      <th></th>\n",
       "      <th>Country</th>\n",
       "      <th>cases_sum</th>\n",
       "      <th>deaths_sum</th>\n",
       "    </tr>\n",
       "  </thead>\n",
       "  <tbody>\n",
       "    <tr>\n",
       "      <th>0</th>\n",
       "      <td>United States of America</td>\n",
       "      <td>98080701</td>\n",
       "      <td>1077016</td>\n",
       "    </tr>\n",
       "    <tr>\n",
       "      <th>1</th>\n",
       "      <td>Republic of Korea</td>\n",
       "      <td>27611555</td>\n",
       "      <td>30975</td>\n",
       "    </tr>\n",
       "    <tr>\n",
       "      <th>2</th>\n",
       "      <td>France</td>\n",
       "      <td>37252086</td>\n",
       "      <td>155936</td>\n",
       "    </tr>\n",
       "    <tr>\n",
       "      <th>3</th>\n",
       "      <td>Viet Nam</td>\n",
       "      <td>11519011</td>\n",
       "      <td>43213</td>\n",
       "    </tr>\n",
       "    <tr>\n",
       "      <th>4</th>\n",
       "      <td>India</td>\n",
       "      <td>44675193</td>\n",
       "      <td>530653</td>\n",
       "    </tr>\n",
       "    <tr>\n",
       "      <th>...</th>\n",
       "      <td>...</td>\n",
       "      <td>...</td>\n",
       "      <td>...</td>\n",
       "    </tr>\n",
       "    <tr>\n",
       "      <th>232</th>\n",
       "      <td>Holy See</td>\n",
       "      <td>26</td>\n",
       "      <td>0</td>\n",
       "    </tr>\n",
       "    <tr>\n",
       "      <th>233</th>\n",
       "      <td>Pitcairn Islands</td>\n",
       "      <td>4</td>\n",
       "      <td>0</td>\n",
       "    </tr>\n",
       "    <tr>\n",
       "      <th>234</th>\n",
       "      <td>Tokelau</td>\n",
       "      <td>0</td>\n",
       "      <td>0</td>\n",
       "    </tr>\n",
       "    <tr>\n",
       "      <th>235</th>\n",
       "      <td>Democratic People's Republic of Korea</td>\n",
       "      <td>0</td>\n",
       "      <td>0</td>\n",
       "    </tr>\n",
       "    <tr>\n",
       "      <th>236</th>\n",
       "      <td>Turkmenistan</td>\n",
       "      <td>0</td>\n",
       "      <td>0</td>\n",
       "    </tr>\n",
       "  </tbody>\n",
       "</table>\n",
       "<p>237 rows × 3 columns</p>\n",
       "</div>"
      ],
      "text/plain": [
       "                                   Country  cases_sum  deaths_sum\n",
       "0                 United States of America   98080701     1077016\n",
       "1                        Republic of Korea   27611555       30975\n",
       "2                                   France   37252086      155936\n",
       "3                                 Viet Nam   11519011       43213\n",
       "4                                    India   44675193      530653\n",
       "..                                     ...        ...         ...\n",
       "232                               Holy See         26           0\n",
       "233                       Pitcairn Islands          4           0\n",
       "234                                Tokelau          0           0\n",
       "235  Democratic People's Republic of Korea          0           0\n",
       "236                           Turkmenistan          0           0\n",
       "\n",
       "[237 rows x 3 columns]"
      ]
     },
     "execution_count": 75,
     "metadata": {},
     "output_type": "execute_result"
    }
   ],
   "source": [
    "data_summary = data_summary.loc[:,[\"cases_sum\",\"deaths_sum\"]].reset_index(drop=False)\n",
    "data_summary"
   ]
  },
  {
   "cell_type": "code",
   "execution_count": 76,
   "id": "7700b886",
   "metadata": {},
   "outputs": [],
   "source": [
    "cases_sum_top.loc[5] =['other',(data_summary['cases_sum'].sum() - cases_sum_top['cases_sum'].sum())]\n",
    "deaths_sum_top.loc[5] =['other',(data_summary['deaths_sum'].sum() - deaths_sum_top['deaths_sum'].sum())]"
   ]
  },
  {
   "cell_type": "code",
   "execution_count": 83,
   "id": "e0c0b6ea",
   "metadata": {},
   "outputs": [
    {
     "data": {
      "image/png": "[encoded data removed]",
      "text/plain": [
       "<Figure size 640x480 with 1 Axes>"
      ]
     },
     "metadata": {},
     "output_type": "display_data"
    }
   ],
   "source": [
    "#确诊前五+other\n",
    "labels = cases_sum_top['Country']\n",
    "fig1, ax1 = plt.subplots()\n",
    "ax1.pie(cases_sum_top['cases_sum'], labels = cases_sum_top['Country'],\n",
    "        autopct='%1.1f%%', shadow=True,\n",
    "        startangle=90)\n",
    "ax1.axis('equal')  # 确保饼图是个圆形\n",
    "plt.show()"
   ]
  },
  {
   "cell_type": "code",
   "execution_count": 84,
   "id": "c544d33d",
   "metadata": {},
   "outputs": [
    {
     "data": {
      "image/png": "[encoded data removed]",
      "text/plain": [
       "<Figure size 640x480 with 1 Axes>"
      ]
     },
     "metadata": {},
     "output_type": "display_data"
    }
   ],
   "source": [
    "#死亡前五+other\n",
    "labels = deaths_sum_top['Country']\n",
    "fig1, ax1 = plt.subplots()\n",
    "ax1.pie(deaths_sum_top['deaths_sum'], labels = deaths_sum_top['Country'],\n",
    "        autopct='%1.1f%%', shadow=True,\n",
    "        startangle=90)\n",
    "ax1.axis('equal')  # 确保饼图是个圆形\n",
    "plt.show()"
   ]
  }
 ],
 "metadata": {
  "kernelspec": {
   "display_name": "Python 3.10.8 ('py310')",
   "language": "python",
   "name": "python3"
  },
  "language_info": {
   "codemirror_mode": {
    "name": "ipython",
    "version": 3
   },
   "file_extension": ".py",
   "mimetype": "text/x-python",
   "name": "python",
   "nbconvert_exporter": "python",
   "pygments_lexer": "ipython3",
   "version": "3.10.8"
  },
  "vscode": {
   "interpreter": {
    "hash": "1b4c78536f1670bc19e353f1d832536cdc9557bf5856226a8d72709e1c172249"
   }
  }
 },
 "nbformat": 4,
 "nbformat_minor": 5
}
