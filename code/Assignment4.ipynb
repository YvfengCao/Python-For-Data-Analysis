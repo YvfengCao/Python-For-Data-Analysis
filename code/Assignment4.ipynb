{
 "cells": [
  {
   "attachments": {},
   "cell_type": "markdown",
   "metadata": {},
   "source": [
    "作业四："
   ]
  },
  {
   "attachments": {},
   "cell_type": "markdown",
   "metadata": {},
   "source": [
    "打印斐波纳契数列前20项用while循环并以列表形式输出"
   ]
  },
  {
   "cell_type": "code",
   "execution_count": 1,
   "metadata": {},
   "outputs": [
    {
     "name": "stdout",
     "output_type": "stream",
     "text": [
      "[1, 1, 2, 3, 5, 8, 13, 21, 34, 55, 89, 144, 233, 377, 610, 987, 1597, 2584, 4181, 6765]\n"
     ]
    }
   ],
   "source": [
    "#斐波那契数列写入列表\n",
    "a1 = 1\n",
    "a2 = 1                  #前两项两个1\n",
    "a3 = 0                  #求和变量\n",
    "n = 3                   #项数\n",
    "list_a = [1,1]          #赋值进列表\n",
    "while n <= 20:          #二十项\n",
    "    a3 = a1 + a2\t    #求和\n",
    "    list_a.append(a3)   #将下一项放入列表\n",
    "    a1 = a2\n",
    "    a2 = a3\t            #交换\n",
    "    n += 1\t            #项数\n",
    "print(list_a[:])\t    #打印数列（列表）"
   ]
  },
  {
   "attachments": {},
   "cell_type": "markdown",
   "metadata": {},
   "source": [
    "对列表降序排列"
   ]
  },
  {
   "cell_type": "code",
   "execution_count": 2,
   "metadata": {},
   "outputs": [
    {
     "name": "stdout",
     "output_type": "stream",
     "text": [
      "[6765, 4181, 2584, 1597, 987, 610, 377, 233, 144, 89, 55, 34, 21, 13, 8, 5, 3, 2, 1, 1]\n"
     ]
    }
   ],
   "source": [
    "#将列表降序排列\n",
    "list_a.sort(reverse = True)\n",
    "print(list_a)"
   ]
  },
  {
   "attachments": {},
   "cell_type": "markdown",
   "metadata": {},
   "source": [
    "将列表转化为元组"
   ]
  },
  {
   "cell_type": "code",
   "execution_count": 3,
   "metadata": {},
   "outputs": [
    {
     "name": "stdout",
     "output_type": "stream",
     "text": [
      "(6765, 4181, 2584, 1597, 987, 610, 377, 233, 144, 89, 55, 34, 21, 13, 8, 5, 3, 2, 1, 1)\n"
     ]
    }
   ],
   "source": [
    "#列表转化元组`\n",
    "tuple_a = tuple(list_a)\n",
    "print(tuple_a)"
   ]
  },
  {
   "attachments": {},
   "cell_type": "markdown",
   "metadata": {},
   "source": [
    "将元组升序排列"
   ]
  },
  {
   "cell_type": "code",
   "execution_count": 4,
   "metadata": {},
   "outputs": [
    {
     "name": "stdout",
     "output_type": "stream",
     "text": [
      "(1, 1, 2, 3, 5, 8, 13, 21, 34, 55, 89, 144, 233, 377, 610, 987, 1597, 2584, 4181, 6765)\n"
     ]
    }
   ],
   "source": [
    "#将元组升序排列\n",
    "list_a = list(tuple_a)\n",
    "list_a.sort()\n",
    "tuple_a = tuple(list_a)\n",
    "print(tuple_a)"
   ]
  },
  {
   "attachments": {},
   "cell_type": "markdown",
   "metadata": {},
   "source": [
    "计算元组平均值"
   ]
  },
  {
   "cell_type": "code",
   "execution_count": 5,
   "metadata": {},
   "outputs": [
    {
     "name": "stdout",
     "output_type": "stream",
     "text": [
      "average =  885.5\n"
     ]
    }
   ],
   "source": [
    "average = (sum(tuple_a)) / (len(tuple_a))\n",
    "print(\"average = \", average)"
   ]
  }
 ],
 "metadata": {
  "kernelspec": {
   "display_name": "py310",
   "language": "python",
   "name": "python3"
  },
  "language_info": {
   "codemirror_mode": {
    "name": "ipython",
    "version": 3
   },
   "file_extension": ".py",
   "mimetype": "text/x-python",
   "name": "python",
   "nbconvert_exporter": "python",
   "pygments_lexer": "ipython3",
   "version": "3.10.8"
  },
  "orig_nbformat": 4,
  "vscode": {
   "interpreter": {
    "hash": "1b4c78536f1670bc19e353f1d832536cdc9557bf5856226a8d72709e1c172249"
   }
  }
 },
 "nbformat": 4,
 "nbformat_minor": 2
}
