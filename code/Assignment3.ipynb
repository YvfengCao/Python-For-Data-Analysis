{
 "cells": [
  {
   "attachments": {},
   "cell_type": "markdown",
   "metadata": {},
   "source": [
    "作业三："
   ]
  },
  {
   "attachments": {},
   "cell_type": "markdown",
   "metadata": {},
   "source": [
    "实验一：斐波那契数列前20项（while循环）"
   ]
  },
  {
   "cell_type": "code",
   "execution_count": null,
   "metadata": {},
   "outputs": [],
   "source": [
    "a1 = 1\n",
    "a2 = 1      #前两项两个1\n",
    "a3 = 0      #求和变量\n",
    "n = 3       #项数\n",
    "print(1)    \n",
    "print(1)    #打印前两项两个1\n",
    "while n <= 20:   #前二十项\n",
    "    a3 = a1 + a2\t#求和\n",
    "    a1 = a2\n",
    "    a2 = a3\t#交换项数\n",
    "    n += 1\t#项数\n",
    "    print(a3)\t#打印数列"
   ]
  },
  {
   "attachments": {},
   "cell_type": "markdown",
   "metadata": {},
   "source": [
    "实验二：对1,2,…,100依次判断是否是质数，并按顺序输出(for循环)"
   ]
  },
  {
   "cell_type": "code",
   "execution_count": null,
   "metadata": {},
   "outputs": [],
   "source": [
    "for i in range(1,101):      #范围1到100\n",
    "    for j in range(2,i):    #从2到i-1依相除次\n",
    "        if i % j == 0:      #判断是否整除\n",
    "            break           #若是，跳出内循环\n",
    "    else:                   #否则\n",
    "        print(i)            #打印i"
   ]
  }
 ],
 "metadata": {
  "kernelspec": {
   "display_name": "py310",
   "language": "python",
   "name": "python3"
  },
  "language_info": {
   "codemirror_mode": {
    "name": "ipython",
    "version": 3
   },
   "file_extension": ".py",
   "mimetype": "text/x-python",
   "name": "python",
   "nbconvert_exporter": "python",
   "pygments_lexer": "ipython3",
   "version": "3.10.8 | packaged by conda-forge | (main, Nov 24 2022, 14:07:00) [MSC v.1916 64 bit (AMD64)]"
  },
  "orig_nbformat": 4,
  "vscode": {
   "interpreter": {
    "hash": "1b4c78536f1670bc19e353f1d832536cdc9557bf5856226a8d72709e1c172249"
   }
  }
 },
 "nbformat": 4,
 "nbformat_minor": 2
}
